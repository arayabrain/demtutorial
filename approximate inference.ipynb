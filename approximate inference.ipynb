{
 "cells": [
  {
   "cell_type": "markdown",
   "metadata": {},
   "source": [
    "# Approximate inferece"
   ]
  },
  {
   "cell_type": "markdown",
   "metadata": {},
   "source": [
    "### Static model"
   ]
  },
  {
   "cell_type": "markdown",
   "metadata": {},
   "source": [
    "$$\n",
    "\\ln p(y|m)\n",
    "$$"
   ]
  },
  {
   "cell_type": "markdown",
   "metadata": {},
   "source": [
    "$$\n",
    "\\begin{align}\n",
    "    \\ln p(y|m) &= \\ln\\frac{p(y, \\psi|m)}{p(\\psi|y)}\\\\\n",
    "    &= \\int q(\\psi) \\ln\\left[\\frac{p(y, \\psi|m)q(\\psi)}{p(\\psi|y)q(\\psi)}\\right]d\\psi\\\\\n",
    "    &= \\int q(\\psi)\\ln\\frac{p(y, \\psi|m)}{q(\\psi)}d\\psi\n",
    "        + \\int q(\\psi)\\ln\\frac{q(\\psi)}{p(\\psi|y)}d\\psi\\\\\n",
    "    &= F(y) + KL[q(\\psi)||p(\\psi|y)]\n",
    "    \\end{align}\n",
    "$$"
   ]
  },
  {
   "cell_type": "markdown",
   "metadata": {},
   "source": [
    "$$\n",
    "\\begin{align}\n",
    "    \\psi &\\to \\{\\theta, \\lambda\\}\\\\\n",
    "    q(\\psi) &= q(\\theta)q(\\lambda)\n",
    "    \\end{align}\n",
    "$$"
   ]
  },
  {
   "cell_type": "markdown",
   "metadata": {},
   "source": [
    "$$\n",
    "\\begin{align}\n",
    "    L(\\theta, \\lambda) &= \\ln p(y, \\theta, \\lambda)\\\\\n",
    "    &= L(\\theta|\\lambda) + L(\\lambda)\n",
    "    \\end{align}\n",
    "$$"
   ]
  },
  {
   "cell_type": "markdown",
   "metadata": {},
   "source": [
    "\\begin{align}\n",
    "    U(y) &= \\langle L(\\theta, \\lambda)\\rangle_{q(\\theta)q(\\lambda)}\\\\\n",
    "    V(\\theta) &= \\langle L(\\theta, \\lambda) \\rangle_{q(\\lambda)}\\\\\n",
    "    V(\\lambda) &= \\langle L(\\theta, \\lambda)\\rangle_{q(\\theta)}\n",
    "    \\end{align}"
   ]
  },
  {
   "cell_type": "markdown",
   "metadata": {},
   "source": [
    "$$\n",
    "\\begin{align}\n",
    "    H &= \\langle \\ln q(\\psi)\\rangle_{q(\\psi)}\\\\\n",
    "    H_\\theta &= \\langle\\ln q(\\theta)\\rangle\\\\\n",
    "    H_\\lambda &= \\langle\\ln q(\\lambda)\\rangle\\\\\n",
    "    \\end{align}\n",
    "$$"
   ]
  },
  {
   "cell_type": "markdown",
   "metadata": {},
   "source": [
    "$$\n",
    "\\begin{align*}\n",
    "    F(y) &= U(y) - H\\\\\n",
    "    &= U(y) - H_\\theta - H_\\lambda\\\\\n",
    "    &= \\int q_\\theta q_\\lambda \\ln p(y, \\theta, \\lambda) d\\theta d\\lambda -\n",
    "        \\int q_\\theta \\ln q(\\theta)d\\theta - \\int q_\\lambda\\ln q(\\lambda)d\\lambda\n",
    "    \\end{align*}\n",
    "$$"
   ]
  },
  {
   "cell_type": "markdown",
   "metadata": {},
   "source": [
    "$$\n",
    "\\begin{align}\n",
    "    f_\\theta  &= q_\\theta V(\\theta) - q_\\theta \\ln q(\\theta) - H_\\lambda\\\\\n",
    "    f_\\lambda &= q_\\lambda V(\\lambda) - q_\\lambda \\ln q(\\lambda) - H_\\theta\n",
    "    \\end{align}\n",
    "$$"
   ]
  },
  {
   "cell_type": "markdown",
   "metadata": {},
   "source": [
    "$$\n",
    "\\begin{align}\n",
    "    \\delta_{q_\\theta}F =0 &\\iff \\partial_{q_\\theta} f_\\theta = 0\\\\\n",
    "    \\delta_{q_\\lambda}F = 0 &\\iff \\partial_{q_\\lambda} f_\\lambda  = 0\n",
    "    \\end{align}\n",
    "$$"
   ]
  },
  {
   "cell_type": "markdown",
   "metadata": {},
   "source": [
    "$$\n",
    "\\begin{align}\n",
    "    \\ln q(\\theta) &= V(\\theta) - \\ln Z_\\theta\\\\\n",
    "    \\ln q(\\lambda) &= V(\\lambda) - \\ln Z_\\lambda\n",
    "    \\end{align}\n",
    "$$"
   ]
  },
  {
   "cell_type": "markdown",
   "metadata": {},
   "source": [
    "### Static model: Alternative treatment"
   ]
  },
  {
   "cell_type": "markdown",
   "metadata": {},
   "source": [
    "$$\n",
    "\\begin{align}\n",
    "    F &= \\int q\\left[\\ln p(y, \\theta) - \\ln q(\\theta)\\right]d\\theta\\\\\n",
    "    &= \\int \\prod_i q_i\\left[\\ln p(y, \\theta) - \\sum_i \\ln q_i\\right]d\\theta\\\\\n",
    "    &=\\int q_i \\int \\prod_{j\\ne i} q_j \\left[\\ln p(y, \\theta) - \\ln q_i -\n",
    "        \\sum_{j\\ne i}\\ln q_j \\right]d\\theta_j d\\theta_i\\\\\n",
    "    &= \\int q_i \\int \\prod_{j\\ne i}q_j\\ln p(y,\\theta)d\\theta_j d\\theta_i \n",
    "        -\\int q_i \\ln q_i d\\theta_i - \n",
    "        \\underbrace{\\int\\prod_{j\\ne i} q_j \\sum_{j\\ne i}\\ln q_jd\\theta_j}_{\n",
    "            \\text{independent of $\\theta_i$}}\\\\\n",
    "    &= \\int q_i \\left\\langle p(y, \\theta)\\right\\rangle_{\\theta_j}d\\theta_i - \\int q_i \\ln q_i d\\theta_i - c\\\\\n",
    "    &= - KL[q_i||\\exp\\langle p(y, \\theta)\\rangle_{\\theta_j}] - c\n",
    "    \\end{align}\n",
    "$$"
   ]
  },
  {
   "cell_type": "markdown",
   "metadata": {},
   "source": [
    "$$\n",
    "\\begin{align}\n",
    "    q^*(\\theta_i) &= \\underset{q(\\theta_i)}{\\operatorname{argmax}} F\\\\\n",
    "    &= \\frac 1 Z_i \\exp\\left(\\langle p(y, \\theta)\\rangle_{\\theta_j}\\right)\n",
    "    \\end{align}\n",
    "$$"
   ]
  },
  {
   "cell_type": "markdown",
   "metadata": {},
   "source": [
    "### Dynamic model"
   ]
  },
  {
   "cell_type": "markdown",
   "metadata": {},
   "source": [
    "$$\n",
    "\\begin{align}\n",
    "    \\psi &\\to \\{u, \\theta, \\lambda\\}\\\\\n",
    "    q(\\psi) &= q(u, t)q(\\theta)q(\\lambda)\n",
    "    \\end{align}\n",
    "$$"
   ]
  },
  {
   "cell_type": "markdown",
   "metadata": {},
   "source": [
    "$$\n",
    "\\begin{align}\n",
    "    L(u, t, \\theta, \\lambda) &= \\ln p(u, t, \\theta, \\lambda)\\\\\n",
    "    &= L(u, t|\\theta, \\lambda) + L(\\theta| \\lambda) + L(\\lambda)\n",
    "    \\end{align}\n",
    "$$"
   ]
  },
  {
   "cell_type": "markdown",
   "metadata": {},
   "source": [
    "$$\n",
    "\\begin{align}\n",
    "    U(y) &= \\langle L(u, t, \\theta, \\lambda)\\rangle_{q_u q_\\theta q_\\lambda}\\\\\n",
    "    &= \\langle L(u, t|\\theta, \\lambda)\\rangle_{q_u q_\\theta q_\\lambda} +\n",
    "        \\langle L(\\theta|\\lambda)\\rangle_{q_\\theta q_\\lambda} +\n",
    "        \\langle L(\\lambda)\\rangle_{q_\\lambda}\\\\\n",
    "    &= U(u, t|\\theta, \\lambda) + U(\\theta|\\lambda) + U(\\lambda)\\\\\n",
    "    \\overline U(y) &= \\int dt U(u, t|\\theta, \\lambda) + U(\\theta| \\lambda) + U(\\lambda)\\\\\n",
    "    &= \\overline U(u, t|\\theta, \\lambda) + U(\\theta| \\lambda) + U(\\lambda)\n",
    "    \\end{align}\n",
    "$$"
   ]
  },
  {
   "cell_type": "markdown",
   "metadata": {},
   "source": [
    "$$\n",
    "V(u, t) = \\int d\\theta d\\lambda L(u, t, \\lambda, \\theta)\n",
    "$$"
   ]
  },
  {
   "cell_type": "markdown",
   "metadata": {},
   "source": [
    "$$\n",
    "\\begin{align}\n",
    "    H &= \\left\\langle q(\\psi)\\right\\rangle_{q_\\psi}\\\\\n",
    "    &= H_u + H_\\theta + H_\\lambda\\\\\n",
    "    H_u &= \\left\\langle q(u, t)\\right\\rangle_{q_u}\\\\\n",
    "    H_\\theta &= \\left\\langle q(\\theta)\\right\\rangle_{q_\\theta}\\\\\n",
    "    H_\\lambda &= \\left\\langle q(\\lambda)\\right\\rangle_{q_\\lambda}\\\\\n",
    "    \\overline H &= \\int dt H\\\\\n",
    "    &= \\int dt H_u + H_\\theta + H_\\lambda\n",
    "    \\end{align}\n",
    "$$"
   ]
  },
  {
   "cell_type": "markdown",
   "metadata": {},
   "source": [
    "$$\n",
    "\\begin{align}\n",
    "    F =& U - H\\\\\n",
    "    \\overline F =& \\overline U - \\overline H\\\\\n",
    "    =& \\int dt U(u, t|\\theta, \\lambda) + U(\\theta|\\lambda) +U(\\lambda) - \\int dt H_u - H_\\theta - H_\\lambda\\\\\n",
    "    =& \\int dtdud\\theta d\\lambda q(u, t)q(\\theta)q(\\lambda)\\ln p(u, t|\\theta, \\lambda)\\\\\n",
    "        &+ \\int d\\theta d\\lambda q(\\theta)q(\\lambda)\\ln p(\\theta|\\lambda)\\\\\n",
    "        &+ \\int d\\lambda q(\\lambda)\\ln p(\\lambda)\\\\\n",
    "        &- \\int dtdu q(u, t)\\ln q(u, t)\\\\\n",
    "        &- \\int d\\theta q(\\theta)\\ln q(\\theta)\\\\\n",
    "        &- \\int d\\lambda q(\\lambda)\\ln q(\\lambda)\n",
    "    \\end{align}\n",
    "$$"
   ]
  },
  {
   "cell_type": "markdown",
   "metadata": {},
   "source": [
    "$$\n",
    "\\begin{align}\n",
    "    f_u =& q(u,t)\\int d\\theta d\\lambda q(\\theta, \\lambda) \\ln p(u, t|\\theta, \\lambda) \\\\\n",
    "        &- q(u, t)\\ln q(u, t) + C\\\\\n",
    "    f_\\theta =& q(\\theta)\\int dtdud\\lambda q(u, t)q(\\lambda)\\ln p(u, t|\\theta, \\lambda) \\\\\n",
    "        &+ q(\\theta)\\int d\\lambda q(\\lambda) \\ln p(\\theta|\\lambda) -\\\\\n",
    "        &- q(\\theta)\\ln q(\\theta) + C\\\\\n",
    "    f_\\lambda =& q(\\lambda)\\int dtdud\\theta q(u,t)q(\\theta)\\ln p(u, t|\\theta, \\lambda)\\\\\n",
    "        &+ q(\\lambda)\\int d\\theta q(\\theta)\\ln p(\\theta|\\lambda)\\\\\n",
    "        &+ q(\\lambda)\\ln p(\\lambda)\\\\\n",
    "        &- q(\\lambda)\\ln q(\\lambda)\n",
    "    \\end{align}\n",
    "$$"
   ]
  },
  {
   "cell_type": "markdown",
   "metadata": {},
   "source": [
    "$$\n",
    "\\begin{align}\n",
    "    \\partial_{q(u, t)}\\overline F = 0 &\\iff \\partial_{q(u, t)}f_u = 0\\\\\n",
    "        &\\Rightarrow \\langle L(u, t|\\theta, \\lambda)\\rangle_{q_\\theta q_\\lambda} -\\ln q(u, t) = 0\\\\\n",
    "        &\\Rightarrow \\ln q(u, t) = V(u, t) - \\ln Z_u\\\\\n",
    "    \\partial_{q(\\theta)}\\overline F = 0 &\\iff \\partial_{q(\\theta)} f_\\theta = 0\\\\\n",
    "        &\\Rightarrow \\int dt\\langle L(u, t|\\theta, \\lambda)\\rangle_{q_u q_\\lambda}\n",
    "            + \\langle L(\\theta|\\lambda)\\rangle_{q_\\lambda}\n",
    "            -\\ln q(\\theta) = 0\\\\\n",
    "        &\\Rightarrow \\ln q(\\theta) = \\overline V(\\theta) - \\ln Z_\\theta\\\\\n",
    "    \\partial_{q(\\lambda)}\\overline F = 0 &\\iff \\partial_{q(\\lambda)} f_\\lambda = 0\\\\\n",
    "        &\\Rightarrow \\int dt \\langle L(u, t|\\theta, \\lambda)\\rangle_{q_u q_\\theta}\n",
    "            + \\langle L(\\theta|\\lambda)\\rangle_{q_\\theta}\n",
    "            + L(\\lambda)\n",
    "            - \\ln q(\\lambda) = 0\\\\\n",
    "        &\\Rightarrow \\ln q(\\lambda) = \\overline V(\\lambda) - \\ln Z_\\lambda\n",
    "    \\end{align}\n",
    "$$"
   ]
  },
  {
   "cell_type": "markdown",
   "metadata": {},
   "source": [
    "### Dynamic model: Alternative treatment"
   ]
  },
  {
   "cell_type": "markdown",
   "metadata": {},
   "source": [
    "$$\n",
    "\\begin{align}\n",
    "    \\psi &\\to \\{\\vartheta(t), \\theta_i\\},\\;\\; i = 1\\dots N\\\\\n",
    "    q(\\psi) &= q(\\vartheta, t)\\prod_i q(\\theta_i)\n",
    "    \\end{align}\n",
    "$$"
   ]
  },
  {
   "cell_type": "markdown",
   "metadata": {},
   "source": [
    "#### 1. dynamic state"
   ]
  },
  {
   "cell_type": "markdown",
   "metadata": {},
   "source": [
    "$$\n",
    "\\begin{align}\n",
    "    \\overline F =& \\int dtd\\psi q(\\psi)\\left[\\ln p(y, \\psi) - \\ln q(\\psi)\\right]\\\\\n",
    "    =& \\int dt d\\vartheta d\\theta_i q(\\vartheta,t)\\prod_i q(\\theta_i)\n",
    "        \\left[\\ln p(y, \\psi) - \\sum_i\\ln q(\\theta_i) - \\ln q(\\vartheta, t)\\right]\\\\\n",
    "    =& \\int dt d\\vartheta q(\\vartheta, t)\\int d\\theta_i \\prod_i q(\\theta_i) \\ln p(y, \\psi)\n",
    "        &&\\left( = \\int dt d\\vartheta q(\\vartheta, t) \\langle \\ln p(y, \\psi)\\rangle_{q_{\\theta_i}}\\right)\\\\\n",
    "     &- \\int dtd\\vartheta q(\\vartheta, t)\\int d\\theta_i \\prod_i q(\\theta_i) \\sum_i \\ln q(\\theta_i)\\\\\n",
    "     &- \\int dtd\\vartheta q(\\vartheta, t)\\ln q(\\vartheta, t) \\int d\\theta_i \\prod_i q(\\theta_i)\\\\\n",
    "    =& - \\int dt KL\\left[ q(\\vartheta, t)||\\exp\\langle\\ln p(y, \\psi)\\rangle_{q_{theta_i}}\\right] + C\n",
    "    \\end{align}\n",
    "$$"
   ]
  },
  {
   "cell_type": "markdown",
   "metadata": {},
   "source": [
    "#### 2. parameters"
   ]
  },
  {
   "cell_type": "markdown",
   "metadata": {},
   "source": [
    "$$\n",
    "\\begin{align}\n",
    "    \\overline F =& \\int dtd\\psi q(\\psi)\\left[\\ln p(y, \\psi) - \\ln q(\\psi)\\right]\\\\\n",
    "    =& \\int dtd\\vartheta d\\theta_jd\\theta_i q(\\theta_j)q(\\vartheta, t)\\prod_{i\\ne j}q(\\theta_i)\n",
    "        \\left[\\ln p(y, \\psi) - \\sum_{i\\ne j}\\ln q(\\theta_i) - \\ln q(\\theta_j) - \\ln q(\\vartheta, t)\\right]\\\\\n",
    "    =& \\int d\\theta_j q(\\theta_j)\\int dt\\langle\\ln p(y, \\psi)\\rangle_{q_\\vartheta q_{i\\backslash j}}\\\\\n",
    "     &- \\int d\\theta_j q(\\theta_j)\\int dt d\\vartheta q(\\vartheta, t)\\int d\\theta_i\\prod_{i\\ne j} q(\\theta_i)\n",
    "         \\sum_{i\\ne j}\\ln q(\\theta_i)\n",
    "         &&\\left(\\text{independent of $\\theta_j$}\\right)\\\\\n",
    "     &- \\int d\\theta_j q(\\theta_j)\\ln q(\\theta_j)\n",
    "         \\int dt d\\vartheta q(\\vartheta, t)\\int d\\theta_i \\prod_{i\\ne j}q(\\theta_i)\\\\\n",
    "     &- \\int d\\theta_j q(\\theta_j)\\int dt d\\vartheta q(\\vartheta, t)\\ln q(\\vartheta, t)\n",
    "         \\int d\\theta_i\\prod_{i\\ne j}q(\\theta_i) && \\left(\\text{independent of $\\theta_j$}\\right)\\\\\n",
    "    =& - KL\\left[\n",
    "        q(\\theta_j)\\middle\\|\n",
    "        \\exp\\left(\\int dt\\langle \\ln p(y, \\psi)\\rangle_{q_\\vartheta q_{\\theta_i}}\\right)\\right] +C\n",
    "    \\end{align}\n",
    "$$"
   ]
  }
 ],
 "metadata": {
  "kernelspec": {
   "display_name": "Python 3",
   "language": "python",
   "name": "python3"
  },
  "language_info": {
   "codemirror_mode": {
    "name": "ipython",
    "version": 3
   },
   "file_extension": ".py",
   "mimetype": "text/x-python",
   "name": "python",
   "nbconvert_exporter": "python",
   "pygments_lexer": "ipython3",
   "version": "3.4.3"
  }
 },
 "nbformat": 4,
 "nbformat_minor": 0
}
