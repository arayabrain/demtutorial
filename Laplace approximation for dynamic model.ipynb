{
 "cells": [
  {
   "cell_type": "markdown",
   "metadata": {},
   "source": [
    "# Laplace approxmation & free-action"
   ]
  },
  {
   "cell_type": "markdown",
   "metadata": {},
   "source": [
    "$\\DeclareMathOperator{\\vec}{vec}$"
   ]
  },
  {
   "cell_type": "markdown",
   "metadata": {},
   "source": [
    "### § Free-action"
   ]
  },
  {
   "cell_type": "markdown",
   "metadata": {},
   "source": [
    "Free-action is the time-integral of free-energy"
   ]
  },
  {
   "cell_type": "markdown",
   "metadata": {},
   "source": [
    "$$\n",
    "\\begin{eqnarray*}\n",
    "    \\overline F &=& \\overline U - \\overline H\\\\\n",
    "    \\overline U &=& \\int dt \\langle L(\\psi)\\rangle_{q_\\psi} = \\int dt \\langle \\ln p(y, \\psi)\\rangle_{q_\\psi}\\\\\n",
    "    \\overline H &=& \\int dt \\langle q(\\psi)\\rangle_{q_\\psi}\n",
    "    \\end{eqnarray*}\n",
    "$$"
   ]
  },
  {
   "cell_type": "markdown",
   "metadata": {},
   "source": [
    "### § Mean-field assumption"
   ]
  },
  {
   "cell_type": "markdown",
   "metadata": {},
   "source": [
    "Now let our parameters factorise into states, parameters, and hyperparameters, $ \\psi \\to \\{u(t), \\theta, \\lambda\\}$, \n",
    "\n",
    "\n",
    "and let the approximate densities over these variables follow mean-field assumption $q(\\psi) = q(u, t)q(\\theta)q(\\lambda)$.\n",
    "\n",
    "$\\theta$ parameterises the first moment of the states, and is independent of $\\lambda$, which parameterises the second moment.\n",
    "\n",
    "Write"
   ]
  },
  {
   "cell_type": "markdown",
   "metadata": {},
   "source": [
    "$$\n",
    "\\begin{eqnarray*}\n",
    "    \\overline U &=& \\int dt \\langle L(u, t, \\theta, \\lambda)\\rangle_{q_uq_\\theta q_\\lambda}\\\\\n",
    "    \\overline H &=& \\int dt \\langle q(u, t)\\rangle +\n",
    "        \\langle q(\\theta)\\rangle +\n",
    "        \\langle q(\\lambda)\\rangle\n",
    "    \\end{eqnarray*}\n",
    "$$"
   ]
  },
  {
   "cell_type": "markdown",
   "metadata": {},
   "source": [
    "### § Laplace approximation"
   ]
  },
  {
   "cell_type": "markdown",
   "metadata": {},
   "source": [
    "Let "
   ]
  },
  {
   "cell_type": "markdown",
   "metadata": {},
   "source": [
    "$$\n",
    "\\begin{eqnarray*}\n",
    "    q(u, t) &=& N(\\mu_u(t), \\Sigma_u(t))\\\\\n",
    "    q(\\theta) &=& N(\\mu_\\theta, \\Sigma_\\theta)\\\\\n",
    "    q(\\lambda) &=& N(\\mu_\\lambda, \\Sigma_\\lambda)\n",
    "    \\end{eqnarray*}\n",
    "$$"
   ]
  },
  {
   "cell_type": "markdown",
   "metadata": {},
   "source": [
    "Naturally,"
   ]
  },
  {
   "cell_type": "markdown",
   "metadata": {},
   "source": [
    "$$\n",
    "\\overline H = \\frac 1 2\\int dt \\ln|\\Sigma_u| + \n",
    "    \\frac 1 2 \\ln|\\Sigma_\\theta| + \\frac 1 2 \\ln|\\Sigma_\\lambda| +\n",
    "    \\frac 1 2 \\left( ND_u + D_\\theta + D_\\lambda\\right)\\ln 2\\pi e\n",
    "$$"
   ]
  },
  {
   "cell_type": "markdown",
   "metadata": {},
   "source": [
    "For the internal action, $\\overline U$, find its second-order truncation around its mode $\\mu$ (ignoring bilinear terms).\n",
    "\n",
    "$$\n",
    "\\DeclareMathOperator{\\tr}{tr}\n",
    "\\begin{eqnarray*}\n",
    "    \\overline U &=& \n",
    "        \\int L(\\mu, t) \\\\\n",
    "        &&+ \n",
    "        \\left\\langle\n",
    "        \\frac 1 2\\left[\n",
    "            (u - \\mu_u)^T L^{(uu)} (u - \\mu_u) \\right.\\right.\\\\\n",
    "            && +\\left.\\left.\n",
    "            (\\theta - \\mu_\\theta)^T L^{(\\theta\\theta)} (\\theta - \\mu_\\theta) \\right.\\right.\\\\\n",
    "            && +\\left.\\left.\n",
    "            (\\lambda - \\mu_\\lambda)^T L^{(\\lambda\\lambda)} (\\lambda - \\mu_\\lambda)\n",
    "            \\right]\n",
    "        \\right\\rangle_{q_u q_\\theta q_\\lambda}dt\\\\\n",
    "    &=& \\int L(\\mu, t) + \\tr\\left(\\Sigma_u L^{(uu)}\\right) +\n",
    "        \\tr\\left(\\Sigma_\\theta L^{(\\theta\\theta)}\\right) +\n",
    "        \\tr\\left(\\Sigma_\\lambda L^{(\\lambda\\lambda)}\\right)dt\n",
    "    \\end{eqnarray*}\n",
    "$$"
   ]
  },
  {
   "cell_type": "markdown",
   "metadata": {},
   "source": [
    "Solve for $\\partial\\overline F/\\partial{\\Sigma_u(t)}=0$\n",
    "\n",
    "$$\n",
    "\\begin{eqnarray*}\n",
    "    &&\\frac 1 2 \\int dt L^{(uu)} - \\frac 1 2 \\int dt\\Sigma^{-1}_u = 0\\\\\n",
    "    \\Rightarrow && \\Sigma^{-1}_u(t) = - L^{(uu)}(\\mu, t)\n",
    "    \\end{eqnarray*}\n",
    "$$\n",
    "\n",
    "Similarly,\n",
    "\n",
    "$$\n",
    "\\begin{eqnarray*}\n",
    "    \\Sigma^{-1}_\\theta &=& -\\int dt L^{(\\theta\\theta)}(\\mu, t)\\\\\n",
    "    \\Sigma^{-1}_\\lambda &=& -\\int dt L^{(\\lambda\\lambda)}(\\mu, t)\n",
    "    \\end{eqnarray*}\n",
    "$$"
   ]
  },
  {
   "cell_type": "markdown",
   "metadata": {},
   "source": [
    "Note that\n",
    "\n",
    "$$\n",
    "\\begin{eqnarray*}\n",
    "    L(u, t, \\theta, \\lambda) &=& \n",
    "        L(u, t|\\theta, \\lambda) + L(\\theta) + L(\\lambda)\\\\\n",
    "    L^{(uu)} &=&\n",
    "        L^{(uu)}(u, t| \\theta, \\lambda)\\\\\n",
    "    L^{(\\theta\\theta)} &=&\n",
    "        L^{(\\theta\\theta)}(u, t|\\theta, \\lambda) + \n",
    "        L^{(\\theta\\theta)}(\\theta)\\\\\n",
    "    L^{(\\lambda\\lambda)} &=& \n",
    "        L^{(\\lambda\\lambda)}(u, t|\\theta, \\lambda) + \n",
    "        L^{(\\lambda\\lambda)}(\\lambda)\n",
    "    \\end{eqnarray*}\n",
    "$$"
   ]
  },
  {
   "cell_type": "markdown",
   "metadata": {},
   "source": [
    "### § Variational action under Laplace approximation"
   ]
  },
  {
   "cell_type": "markdown",
   "metadata": {},
   "source": [
    "With the following notation, one can write down the variational action, which is the internal action expected under their resepctive Markov Blanket."
   ]
  },
  {
   "cell_type": "markdown",
   "metadata": {},
   "source": [
    "$$\n",
    "\\begin{align}\n",
    "    L_u &= L(u, t, \\mu_\\theta, \\mu_\\lambda)\\\\\n",
    "    L_\\theta &= L(\\mu_u, t, \\theta, \\mu_\\lambda)\\\\\n",
    "    L_\\lambda &= L(\\mu_u, t, \\mu_\\theta, \\lambda)\n",
    "    \\end{align}\n",
    "$$"
   ]
  },
  {
   "cell_type": "markdown",
   "metadata": {},
   "source": [
    "$$\n",
    "\\begin{align}\n",
    "    {V}_u = \n",
    "    V(u, t) &= \\int dt \\langle L(u, t, \\theta, \\lambda)\\rangle_{q_\\theta q_\\lambda}\\\\\n",
    "    &= \\int L_u + \n",
    "        \\frac 1 2\n",
    "        \\left(\n",
    "        \\tr[\\Sigma_\\theta L_\\theta^{(\\theta\\theta)}] +\n",
    "        \\tr[\\Sigma_\\lambda L_\\lambda^{(\\lambda\\lambda)}]\n",
    "        \\right)dt\\\\\n",
    "    \\overline{V}_\\theta = \n",
    "    \\overline V(\\theta) &= \\int dt \\langle L(u, t, \\theta, \\lambda)\\rangle_{q_u q_\\lambda}\\\\\n",
    "    &= \\int L_\\theta + \n",
    "        \\frac 1 2\n",
    "        \\left(\n",
    "        \\tr[\\Sigma_u L_u^{(uu)}] +\n",
    "        \\tr[\\Sigma_\\lambda L_\\lambda^{(\\lambda\\lambda)}]\n",
    "        \\right)dt\\\\\n",
    "    \\overline{V}_\\lambda = \n",
    "    \\overline V(\\lambda) &= \\int dt \\langle L(u, t, \\theta, \\lambda)\\rangle_{q_u q_\\theta}\\\\\n",
    "    &= \\int L_\\lambda + \n",
    "        \\frac 1 2\n",
    "        \\left(\n",
    "        \\tr[\\Sigma_u L_u^{(uu)}] +\n",
    "        \\tr[\\Sigma_\\theta L_\\theta^{(\\theta\\theta)}]\n",
    "        \\right)dt\\\\\n",
    "    \\end{align}\n",
    "$$"
   ]
  },
  {
   "cell_type": "markdown",
   "metadata": {},
   "source": [
    "$\\overline V(u)^{(u)}$ and $\\overline V(u)^{(uu)}$"
   ]
  },
  {
   "cell_type": "markdown",
   "metadata": {},
   "source": [
    "### § Optimisation: embedding and mode following"
   ]
  },
  {
   "cell_type": "markdown",
   "metadata": {},
   "source": [
    "Suppose the time-dependent state, $u$, subsumes its motion up to arbitrary high order, one may unpack this and write $\\tilde u = (u, u', u'', \\dots)^T$."
   ]
  },
  {
   "cell_type": "markdown",
   "metadata": {},
   "source": [
    "Let this generalised state move along the gradient of variational energy/action, hoping to catch up the motion one level above when the gradient vanishes:"
   ]
  },
  {
   "cell_type": "markdown",
   "metadata": {},
   "source": [
    "$$\n",
    "\\begin{align}\n",
    "    \\dot{\\tilde u} &= V_u^{(u)} + \\mathcal D\\tilde u\n",
    "    \\end{align}\n",
    "$$"
   ]
  },
  {
   "cell_type": "markdown",
   "metadata": {},
   "source": [
    "This way, when $V_u^{(u)} = 0$, one has"
   ]
  },
  {
   "cell_type": "markdown",
   "metadata": {},
   "source": [
    "$$\n",
    "\\begin{align}\n",
    "    \\dot u &= u'\\\\\n",
    "    \\dot u' &= u''\\\\\n",
    "    \\dot u'' &= u'''\\\\\n",
    "    &\\vdots\n",
    "    \\end{align}\n",
    "$$"
   ]
  },
  {
   "cell_type": "markdown",
   "metadata": {},
   "source": [
    "Here, $\\mathcal D$ is a differential operator, or simply a delay matrix."
   ]
  },
  {
   "cell_type": "markdown",
   "metadata": {},
   "source": []
  },
  {
   "cell_type": "markdown",
   "metadata": {},
   "source": [
    "### § Example 1: Dynamic causal model"
   ]
  },
  {
   "cell_type": "markdown",
   "metadata": {},
   "source": [
    "$$\n",
    "\\begin{align}\n",
    "    y &= g(x, v; \\theta) + z,\\;\\;\\; z\\sim N(0, \\Pi(\\lambda)^{-1}_z)\\\\\n",
    "    \\dot x &= f(x, v; \\theta) + w,\\;\\;\\; w\\sim N(0, \\Pi(\\lambda)^{-1}_w)\n",
    "    \\end{align}\n",
    "$$"
   ]
  },
  {
   "cell_type": "markdown",
   "metadata": {},
   "source": [
    "$$\n",
    "\\begin{align}\n",
    "    \\ln p(y, u, t, \\theta, \\lambda) &= L(y|x, v, \\theta, \\lambda) + L(x|v, \\theta,\\lambda) + L(\\theta) + L(\\lambda)\n",
    "    \\end{align}\n",
    "$$"
   ]
  },
  {
   "cell_type": "markdown",
   "metadata": {},
   "source": [
    "where $u=(v, x)^T$ and let $p(v)$ be uninformative for now. And let the parameter, $\\theta$, and hyperparameter, $\\lambda$, be independent and take the following form"
   ]
  },
  {
   "cell_type": "markdown",
   "metadata": {},
   "source": [
    "$$\n",
    "\\begin{align}\n",
    "    p(\\theta) &= N(\\theta|\\eta_\\theta, P^{-1}_\\theta)\\\\\n",
    "    p(\\lambda) &= N(\\lambda|\\eta_\\lambda, P^{-1}_\\lambda)\n",
    "    \\end{align}\n",
    "$$"
   ]
  },
  {
   "cell_type": "markdown",
   "metadata": {},
   "source": [
    "which altogether lend the generative density to an analytical form"
   ]
  },
  {
   "cell_type": "markdown",
   "metadata": {},
   "source": [
    "$$\n",
    "\\begin{align}\n",
    "    L(t) &= -\n",
    "        \\frac 1 2 \\varepsilon_v^T\\Pi_z\\varepsilon_v -\n",
    "        \\frac 1 2 \\varepsilon_x^T\\Pi_w\\varepsilon_x -\n",
    "        \\frac 1 2 \\varepsilon_\\theta^T P_\\theta \\varepsilon_\\theta -\n",
    "        \\frac 1 2 \\varepsilon_\\lambda^T P_\\lambda \\varepsilon_\\lambda -\n",
    "        \\frac 1 2 \\ln|\\Pi_z| -\n",
    "        \\frac 1 2 \\ln|\\Pi_w| - \n",
    "        \\frac 1 2 \\ln|P_\\theta| - \n",
    "        \\frac 1 2 \\ln|P_\\lambda|\n",
    "    \\end{align}\n",
    "$$"
   ]
  },
  {
   "cell_type": "markdown",
   "metadata": {},
   "source": [
    "where"
   ]
  },
  {
   "cell_type": "markdown",
   "metadata": {},
   "source": [
    "$$\n",
    "\\begin{align}\n",
    "    \\varepsilon_v &= y - g(x, v)\\\\\n",
    "    \\varepsilon_x &= \\dot x - f(x, v)\\\\\n",
    "    \\varepsilon_\\theta &= \\theta - \\eta_\\theta\\\\\n",
    "    \\varepsilon_\\lambda &= \\lambda - \\eta_\\lambda\n",
    "    \\end{align}\n",
    "$$"
   ]
  },
  {
   "cell_type": "markdown",
   "metadata": {},
   "source": [
    "If one allows the time-dependent terms to be lumped together, i.e.,"
   ]
  },
  {
   "cell_type": "markdown",
   "metadata": {},
   "source": [
    "$$\n",
    "\\begin{align}\n",
    "    \\varepsilon_u &= \\left( \\varepsilon_v, \\varepsilon_x \\right)^T\\\\\n",
    "    \\Pi &= \\left(\\begin{array}{cc}\n",
    "        \\Pi_z & \\\\\n",
    "        & \\Pi_w\n",
    "        \\end{array}\\right) =\n",
    "        \\left(\\begin{array}{cc}\n",
    "        \\Sigma_z^{-1} &\\\\\n",
    "        & \\Sigma_w^{-1}\n",
    "        \\end{array}\n",
    "        \\right) = \\Sigma^{-1}\n",
    "    \\end{align}\n",
    "$$"
   ]
  },
  {
   "cell_type": "markdown",
   "metadata": {},
   "source": [
    "one writes"
   ]
  },
  {
   "cell_type": "markdown",
   "metadata": {},
   "source": [
    "$$\n",
    "\\begin{align}\n",
    "    L(t) &= -\n",
    "        \\frac 1 2 \\varepsilon_u^T\\Pi\\varepsilon_u -\n",
    "        \\frac 1 2 \\varepsilon_\\theta^T P_\\theta \\varepsilon_\\theta -\n",
    "        \\frac 1 2 \\varepsilon_\\lambda^T P_\\lambda \\varepsilon_\\lambda -\n",
    "        \\frac 1 2 \\ln|\\Pi| -\n",
    "        \\frac 1 2 \\ln|P_\\theta| - \n",
    "        \\frac 1 2 \\ln|P_\\lambda|\n",
    "    \\end{align}\n",
    "$$"
   ]
  },
  {
   "cell_type": "markdown",
   "metadata": {},
   "source": [
    "And let this expression prescribe generalised motion over its states, write"
   ]
  },
  {
   "cell_type": "markdown",
   "metadata": {},
   "source": [
    "$$\n",
    "\\begin{align}\n",
    "    L(t) &= -\n",
    "        \\frac 1 2 \\tilde{\\varepsilon_u}^T \\tilde\\Pi \\tilde{\\varepsilon_u} -\n",
    "        \\frac 1 2 \\varepsilon_\\theta^T P_\\theta \\varepsilon_\\theta -\n",
    "        \\frac 1 2 \\varepsilon_\\lambda^T P_\\lambda \\varepsilon_\\lambda -\n",
    "        \\frac 1 2 \\ln|\\tilde\\Pi| -\n",
    "        \\frac 1 2 \\ln|P_\\theta| - \n",
    "        \\frac 1 2 \\ln|P_\\lambda|\n",
    "    \\end{align}\n",
    "$$"
   ]
  },
  {
   "cell_type": "markdown",
   "metadata": {},
   "source": [
    "#### Conditional precision $\\pmb\\Lambda_u$"
   ]
  },
  {
   "cell_type": "markdown",
   "metadata": {},
   "source": [
    "For state $u$, the conditional precision, $\\Lambda_u=-L(t)^{(uu)}$, is"
   ]
  },
  {
   "cell_type": "markdown",
   "metadata": {},
   "source": [
    "$$\n",
    "\\tilde{\\varepsilon_u^{(u)}}^T \\tilde\\Pi \\tilde{\\varepsilon_u^{(u)}}\n",
    "$$"
   ]
  },
  {
   "cell_type": "markdown",
   "metadata": {},
   "source": [
    "where"
   ]
  },
  {
   "cell_type": "markdown",
   "metadata": {},
   "source": [
    "$$\n",
    "\\begin{align}\n",
    "    \\tilde{\\varepsilon_u^{(u)}} &= \\left(\n",
    "        \\begin{array}{cc}\n",
    "            \\tilde{\\varepsilon_v^{(v)}} &\n",
    "            \\tilde{\\varepsilon_v^{(x)}} \\\\\n",
    "            \\tilde{\\varepsilon_x^{(v)}} &\n",
    "            \\tilde{\\varepsilon_x^{(x)}}\n",
    "            \\end{array}\n",
    "            \\right)\\\\\n",
    "    \\tilde{\\varepsilon_v^{(v)}} &= \\left(\n",
    "        \\begin{array}{c}\n",
    "            \\varepsilon_v^{(\\tilde v)}\\\\\n",
    "            \\varepsilon_{v'}^{(\\tilde v)}\\\\\n",
    "            \\varepsilon_{v''}^{(\\tilde v)}\\\\\n",
    "            \\vdots\n",
    "            \\end{array}\n",
    "            \\right) = \\left(\n",
    "        \\begin{array}{cccc}\n",
    "            \\varepsilon_v^{(v)} &\n",
    "            \\varepsilon_v^{(v')} &\n",
    "            \\varepsilon_v^{(v'')} &\n",
    "            \\\\\n",
    "            \\varepsilon_{v'}^{(v)} &\n",
    "            \\varepsilon_{v'}^{(v')} &\n",
    "            \\varepsilon_{v'}^{(v'')} &\n",
    "            \\cdots\n",
    "            \\\\\n",
    "            \\varepsilon_{v''}^{(v)} &\n",
    "            \\varepsilon_{v''}^{(v')} &\n",
    "            \\varepsilon_{v''}^{(v'')} &\n",
    "            \\\\\n",
    "             & \\vdots & & \\ddots\n",
    "            \\end{array}\n",
    "            \\right) =\n",
    "        -I \\otimes g^{(v)}\\\\\n",
    "    \\tilde{\\varepsilon_x^{(x)}} &= \\left[\\mathcal D\\tilde x - \\tilde f\\right]^{(\\tilde x)} =\n",
    "        \\mathcal D - I \\otimes f^{(x)}\n",
    "    \\end{align}\n",
    "$$"
   ]
  },
  {
   "cell_type": "markdown",
   "metadata": {},
   "source": [
    "See [A.4 generalised motion](?)."
   ]
  },
  {
   "cell_type": "markdown",
   "metadata": {},
   "source": [
    "Thus,"
   ]
  },
  {
   "cell_type": "markdown",
   "metadata": {},
   "source": [
    "$$\n",
    "\\tilde{\\varepsilon_u^{(u)}} = -\\left(\n",
    "    \\begin{array}{cc}\n",
    "        I\\otimes g^{(v)} &\n",
    "        I\\otimes g^{(x)} \\\\\n",
    "        I\\otimes f^{(v)} &\n",
    "        I\\otimes f^{(x)} - \\mathcal D\n",
    "        \\end{array}\n",
    "        \\right)\n",
    "$$"
   ]
  },
  {
   "cell_type": "markdown",
   "metadata": {},
   "source": [
    "#### Conditional precision $\\pmb\\Lambda_\\theta$"
   ]
  },
  {
   "cell_type": "markdown",
   "metadata": {},
   "source": [
    "Conditional precision over parameter, $\\Lambda_\\theta = -L(t)^{(\\theta\\theta)}$ is"
   ]
  },
  {
   "cell_type": "markdown",
   "metadata": {},
   "source": [
    "$$\n",
    "\\tilde{\\varepsilon_u^{(\\theta)}}^T \\tilde\\Pi \\tilde{\\varepsilon_u^{(\\theta)}} + P_\\theta\n",
    "$$"
   ]
  },
  {
   "cell_type": "markdown",
   "metadata": {},
   "source": [
    "Let $\\theta = (\\theta_{:1}, \\theta_{:2}, \\dots, \\theta_{:k}, \\dots, \\theta_{:K})^T$."
   ]
  },
  {
   "cell_type": "markdown",
   "metadata": {},
   "source": [
    "$$\n",
    "\\begin{align}\n",
    "    \\tilde{\\varepsilon_u^{(\\theta_{:k})}} &= \\left(\n",
    "        \\begin{array}{c}\n",
    "            \\tilde y - \\tilde g\\\\\n",
    "            \\mathcal D\\tilde x - \\tilde f\n",
    "            \\end{array}\n",
    "            \\right)^{(\\theta_{:k})} = -\\left(\n",
    "        \\begin{array}{c}\n",
    "            \\tilde{g^{(\\theta_{:k})}}\\\\\n",
    "            \\tilde{f^{(\\theta_{:k})}}\n",
    "            \\end{array}\n",
    "            \\right)\\\\\n",
    "    &= \\left(\n",
    "        \\begin{array}{cc}\n",
    "            I\\otimes g^{(v\\theta_{:k})} &\n",
    "            I\\otimes g^{(x\\theta_{:k})} \\\\\n",
    "            I\\otimes f^{(v\\theta_{:k})} &\n",
    "            I\\otimes f^{(x\\theta_{:k})}\n",
    "            \\end{array}\n",
    "            \\right) \\left(\n",
    "        \\begin{array}{c}\n",
    "            \\tilde v\\\\\n",
    "            \\tilde x\n",
    "            \\end{array}\n",
    "            \\right)\n",
    "    \\end{align}\n",
    "$$"
   ]
  },
  {
   "cell_type": "markdown",
   "metadata": {},
   "source": [
    "#### Conditional precision $\\pmb\\Lambda_\\lambda$"
   ]
  },
  {
   "cell_type": "markdown",
   "metadata": {},
   "source": [
    "Conditional precision over hyperparameter, $\\Lambda_\\lambda = -L(t)^{(\\lambda\\lambda)}$, is, assuming $\\lambda_i, \\lambda_j\\in\\lambda$"
   ]
  },
  {
   "cell_type": "markdown",
   "metadata": {},
   "source": [
    "$$\n",
    "\\begin{align}\n",
    "    &\\frac{\\partial^2}{\\partial\\lambda_j\\partial\\lambda_i}\\left(\n",
    "        -\\frac 1 2 \\tilde{\\varepsilon_u}^T\\tilde\\Pi\\tilde{\\varepsilon_u} -\n",
    "        \\frac 1 2 \\ln|\\Pi|\\right)\\\\\n",
    "    =& -\\frac 1 2\n",
    "        \\frac{\\partial}{\\partial\\lambda_j}\\left[\n",
    "        \\tilde{\\varepsilon_u}^T \\frac{\\partial}{\\partial\\lambda_i}\\tilde\\Pi \\tilde{\\varepsilon_u} +\n",
    "        \\frac{\\partial}{\\partial\\lambda_i}\\ln|\\tilde\\Pi|\n",
    "        \\right]\\\\\n",
    "    =& -\\frac 1 2\n",
    "        \\tilde\\Pi^{(\\lambda_i)}\n",
    "        \\tr\\left[\n",
    "        \\tilde\\Sigma \\tilde\\Pi^{(\\lambda_j)} \\tilde\\Sigma \\tilde\\Pi^{(\\lambda_i)}\n",
    "        \\right]\n",
    "    \\end{align}\n",
    "$$"
   ]
  },
  {
   "cell_type": "markdown",
   "metadata": {},
   "source": [
    "where"
   ]
  },
  {
   "cell_type": "markdown",
   "metadata": {},
   "source": [
    "$$\n",
    "\\begin{align}\n",
    "    & \\tilde{\\varepsilon_u}^T \\frac{\\partial}{\\partial\\lambda_i}\\tilde\\Pi \\tilde{\\varepsilon_u}\\\\\n",
    "    &= \\vec(\\tilde{\\varepsilon_u}\\tilde{\\varepsilon_u}^T)^T\n",
    "        \\vec(\\tilde{\\Pi}^{(\\lambda_i)})\\\\\n",
    "    &= \\tr\\left[\n",
    "        \\tilde{\\varepsilon_u} \\tilde{\\varepsilon_u}^T \\tilde{\\Pi}^{(\\lambda_i)}\n",
    "        \\right]\n",
    "    \\end{align}\n",
    "$$"
   ]
  },
  {
   "cell_type": "markdown",
   "metadata": {},
   "source": [
    "$$\n",
    "\\begin{align}\n",
    "    \\frac{\\partial}{\\partial\\lambda_i}\\ln|\\tilde\\Pi| &=\n",
    "        \\frac{\\partial\\tilde\\Pi}{\\partial\\lambda_i}\n",
    "        \\frac{\\partial|\\tilde\\Pi|}{\\partial\\tilde\\Pi}\n",
    "        \\frac{\\partial}{\\partial|\\tilde\\Pi|}\\ln|\\tilde\\Pi|\\\\\n",
    "    &= \\tilde\\Pi^{(\\lambda_i)}\n",
    "        |\\tilde\\Pi|\\tr\\left[\\tilde\\Sigma\\tilde\\Pi^{(\\lambda_i)}\\right]\n",
    "        \\frac{1}{|\\tilde\\Pi|}\\\\\n",
    "    &= \\tilde\\Pi^{(\\lambda_i)}\n",
    "        \\tr\\left[\\tilde\\Sigma\\tilde\\Pi^{(\\lambda_i)}\\right]\n",
    "    \\end{align}\n",
    "$$"
   ]
  },
  {
   "cell_type": "markdown",
   "metadata": {},
   "source": [
    "\\begin{align}\n",
    "    \\frac{\\partial^2}{\\partial\\lambda_j\\partial\\lambda_i}\\ln|\\tilde\\Pi| &= \n",
    "        \\frac{\\partial}{\\partial\\lambda_j}\n",
    "        \\tilde\\Pi^{(\\lambda_i)}\n",
    "        \\tr\\left[\\tilde\\Sigma\\tilde\\Pi^{(\\lambda_i)}\\right]\\\\\n",
    "    &=\\tilde\\Pi^{(\\lambda_i\\lambda_j)}\n",
    "        \\tr\\left[\n",
    "        \\tilde\\Sigma\\tilde\\Pi^{(\\lambda_i)}\n",
    "        \\right] +\n",
    "        \\tilde\\Pi^{(\\lambda_i)}\n",
    "        \\tr\\left[\n",
    "        \\tilde\\Sigma \\tilde\\Pi^{(\\lambda_j)} \\tilde\\Sigma \\tilde\\Pi^{(\\lambda_i)} +\n",
    "        \\tilde\\Sigma \\tilde\\Pi^{(\\lambda_i\\lambda_j)}\n",
    "        \\right]\\\\\n",
    "    &= \\tilde\\Pi^{(\\lambda_i)}\n",
    "        \\tr\\left[\n",
    "        \\tilde\\Sigma \\tilde\\Pi^{(\\lambda_j)} \\tilde\\Sigma \\tilde\\Pi^{(\\lambda_i)}\n",
    "        \\right]\\;\\;\\;\\;(\n",
    "        \\text{if $\\partial^2 \\tilde\\Pi/\\partial\\lambda\\partial\\lambda = 0$})\n",
    "    \\end{align}"
   ]
  },
  {
   "cell_type": "markdown",
   "metadata": {},
   "source": [
    "See [Differentials of determinant](http://www.ee.ic.ac.uk/hp/staff/dmb/matrix/calculus.html#deriv_det)\n",
    ", [Differentials of inverses and trace](http://www.ee.ic.ac.uk/hp/staff/dmb/matrix/calculus.html#deriv_inv) from Matrix Reference Manual."
   ]
  },
  {
   "cell_type": "code",
   "execution_count": null,
   "metadata": {
    "collapsed": true
   },
   "outputs": [],
   "source": []
  }
 ],
 "metadata": {
  "kernelspec": {
   "display_name": "Python 3",
   "language": "python",
   "name": "python3"
  },
  "language_info": {
   "codemirror_mode": {
    "name": "ipython",
    "version": 3
   },
   "file_extension": ".py",
   "mimetype": "text/x-python",
   "name": "python",
   "nbconvert_exporter": "python",
   "pygments_lexer": "ipython3",
   "version": "3.4.3"
  }
 },
 "nbformat": 4,
 "nbformat_minor": 0
}
