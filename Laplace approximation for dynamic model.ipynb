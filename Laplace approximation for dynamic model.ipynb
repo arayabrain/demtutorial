{
 "cells": [
  {
   "cell_type": "markdown",
   "metadata": {},
   "source": [
    "# Laplace approxmation & free-action"
   ]
  },
  {
   "cell_type": "markdown",
   "metadata": {},
   "source": [
    "$\\DeclareMathOperator{\\vec}{vec}$"
   ]
  },
  {
   "cell_type": "markdown",
   "metadata": {},
   "source": [
    "### § Free-action"
   ]
  },
  {
   "cell_type": "markdown",
   "metadata": {},
   "source": [
    "Free-action is the time-integral of free-energy"
   ]
  },
  {
   "cell_type": "markdown",
   "metadata": {},
   "source": [
    "$$\n",
    "\\begin{eqnarray*}\n",
    "    \\overline F &=& \\overline U - \\overline H\\\\\n",
    "    \\overline U &=& \\int dt \\langle L(\\psi)\\rangle_{q_\\psi} = \\int dt \\langle \\ln p(y, \\psi)\\rangle_{q_\\psi}\\\\\n",
    "    \\overline H &=& \\int dt \\langle q(\\psi)\\rangle_{q_\\psi}\n",
    "    \\end{eqnarray*}\n",
    "$$"
   ]
  },
  {
   "cell_type": "markdown",
   "metadata": {},
   "source": [
    "### § Mean-field assumption"
   ]
  },
  {
   "cell_type": "markdown",
   "metadata": {},
   "source": [
    "Now let our parameters factorise into states, parameters, and hyperparameters, $ \\psi \\to \\{u(t), \\theta, \\lambda\\}$, \n",
    "\n",
    "\n",
    "and let the approximate densities over these variables follow mean-field assumption $q(\\psi) = q(u, t)q(\\theta)q(\\lambda)$.\n",
    "\n",
    "$\\theta$ parameterises the first moment of the states, and is independent of $\\lambda$, which parameterises the second moment.\n",
    "\n",
    "Write"
   ]
  },
  {
   "cell_type": "markdown",
   "metadata": {},
   "source": [
    "$$\n",
    "\\begin{eqnarray*}\n",
    "    \\overline U &=& \\int dt \\langle L(u, t, \\theta, \\lambda)\\rangle_{q_uq_\\theta q_\\lambda}\\\\\n",
    "    \\overline H &=& \\int dt \\langle q(u, t)\\rangle +\n",
    "        \\langle q(\\theta)\\rangle +\n",
    "        \\langle q(\\lambda)\\rangle\n",
    "    \\end{eqnarray*}\n",
    "$$"
   ]
  },
  {
   "cell_type": "markdown",
   "metadata": {},
   "source": [
    "### § Laplace approximation"
   ]
  },
  {
   "cell_type": "markdown",
   "metadata": {},
   "source": [
    "Let "
   ]
  },
  {
   "cell_type": "markdown",
   "metadata": {},
   "source": [
    "$$\n",
    "\\begin{eqnarray*}\n",
    "    q(u, t) &=& N(\\mu_u(t), \\Sigma_u(t))\\\\\n",
    "    q(\\theta) &=& N(\\mu_\\theta, \\Sigma_\\theta)\\\\\n",
    "    q(\\lambda) &=& N(\\mu_\\lambda, \\Sigma_\\lambda)\n",
    "    \\end{eqnarray*}\n",
    "$$"
   ]
  },
  {
   "cell_type": "markdown",
   "metadata": {},
   "source": [
    "Naturally,"
   ]
  },
  {
   "cell_type": "markdown",
   "metadata": {},
   "source": [
    "$$\n",
    "\\overline H = \\frac 1 2\\int dt \\ln|\\Sigma_u| + \n",
    "    \\frac 1 2 \\ln|\\Sigma_\\theta| + \\frac 1 2 \\ln|\\Sigma_\\lambda| +\n",
    "    \\frac 1 2 \\left( ND_u + D_\\theta + D_\\lambda\\right)\\ln 2\\pi e\n",
    "$$"
   ]
  },
  {
   "cell_type": "markdown",
   "metadata": {},
   "source": [
    "For the internal action, $\\overline U$, find its second-order truncation around its mode $\\mu = \\left[\\mu_u, \\mu_\\theta, \\mu_\\lambda\\right]^T$ (ignoring bilinear terms).\n",
    "\n",
    "$$\n",
    "\\DeclareMathOperator{\\tr}{tr}\n",
    "\\begin{eqnarray*}\n",
    "    \\overline U &=& \n",
    "        \\int L(\\mu, t) \\\\\n",
    "        &&+ \n",
    "        \\left\\langle\n",
    "        \\frac 1 2\\left[\n",
    "            (u - \\mu_u)^T L^{(uu)} (u - \\mu_u) \\right.\\right.\\\\\n",
    "            && +\\left.\\left.\n",
    "            (\\theta - \\mu_\\theta)^T L^{(\\theta\\theta)} (\\theta - \\mu_\\theta) \\right.\\right.\\\\\n",
    "            && +\\left.\\left.\n",
    "            (\\lambda - \\mu_\\lambda)^T L^{(\\lambda\\lambda)} (\\lambda - \\mu_\\lambda)\n",
    "            \\right]\n",
    "        \\right\\rangle_{q_u q_\\theta q_\\lambda}dt\\\\\n",
    "    &=& \\int L(\\mu, t) + \\tr\\left(\\Sigma_u L^{(uu)}\\right) +\n",
    "        \\tr\\left(\\Sigma_\\theta L^{(\\theta\\theta)}\\right) +\n",
    "        \\tr\\left(\\Sigma_\\lambda L^{(\\lambda\\lambda)}\\right)dt\n",
    "    \\end{eqnarray*}\n",
    "$$"
   ]
  },
  {
   "cell_type": "markdown",
   "metadata": {},
   "source": [
    "#### Finding conditional precision"
   ]
  },
  {
   "cell_type": "markdown",
   "metadata": {},
   "source": [
    "Solve for $\\partial\\overline F/\\partial{\\Sigma_u(t)}=0$\n",
    "\n",
    "$$\n",
    "\\begin{eqnarray*}\n",
    "    &&\\frac 1 2 \\int dt L^{(uu)} - \\frac 1 2 \\int dt\\Sigma^{-1}_u = 0\\\\\n",
    "    \\Rightarrow && \\Sigma^{-1}_u(t) = - L^{(uu)}(\\mu, t)\n",
    "    \\end{eqnarray*}\n",
    "$$\n",
    "\n",
    "Similarly,\n",
    "\n",
    "$$\n",
    "\\begin{eqnarray*}\n",
    "    \\Sigma^{-1}_\\theta &=& -\\int dt L^{(\\theta\\theta)}(\\mu, t)\\\\\n",
    "    \\Sigma^{-1}_\\lambda &=& -\\int dt L^{(\\lambda\\lambda)}(\\mu, t)\n",
    "    \\end{eqnarray*}\n",
    "$$"
   ]
  },
  {
   "cell_type": "markdown",
   "metadata": {},
   "source": [
    "Note that\n",
    "\n",
    "$$\n",
    "\\begin{eqnarray*}\n",
    "    L(u, t, \\theta, \\lambda) &=& \n",
    "        L(u, t|\\theta, \\lambda) + L(\\theta) + L(\\lambda)\\\\\n",
    "    L^{(uu)} &=&\n",
    "        L^{(uu)}(u, t| \\theta, \\lambda)\\\\\n",
    "    L^{(\\theta\\theta)} &=&\n",
    "        L^{(\\theta\\theta)}(u, t|\\theta, \\lambda) + \n",
    "        L^{(\\theta\\theta)}(\\theta)\\\\\n",
    "    L^{(\\lambda\\lambda)} &=& \n",
    "        L^{(\\lambda\\lambda)}(u, t|\\theta, \\lambda) + \n",
    "        L^{(\\lambda\\lambda)}(\\lambda)\n",
    "    \\end{eqnarray*}\n",
    "$$"
   ]
  },
  {
   "cell_type": "markdown",
   "metadata": {},
   "source": [
    "### § Variational action under Laplace approximation"
   ]
  },
  {
   "cell_type": "markdown",
   "metadata": {},
   "source": [
    "With the following notation, one can write down the variational action, which is the internal action expected under their resepctive Markov Blanket."
   ]
  },
  {
   "cell_type": "markdown",
   "metadata": {},
   "source": [
    "$$\n",
    "\\begin{align}\n",
    "    L_u &= L(u, t, \\mu_\\theta, \\mu_\\lambda)\\\\\n",
    "    L_\\theta &= L(\\mu_u, t, \\theta, \\mu_\\lambda)\\\\\n",
    "    L_\\lambda &= L(\\mu_u, t, \\mu_\\theta, \\lambda)\n",
    "    \\end{align}\n",
    "$$"
   ]
  },
  {
   "cell_type": "markdown",
   "metadata": {},
   "source": [
    "$$\n",
    "\\begin{align}\n",
    "    {V}_u = \n",
    "    V(u, t) &= \\langle L(u, t, \\theta, \\lambda)\\rangle_{q_\\theta q_\\lambda}\\\\\n",
    "    &= L_u + \n",
    "        \\frac 1 2\n",
    "        \\left(\n",
    "        \\tr[\\Sigma_\\theta L_\\theta^{(\\theta\\theta)}] +\n",
    "        \\tr[\\Sigma_\\lambda L_\\lambda^{(\\lambda\\lambda)}]\n",
    "        \\right)\\\\\n",
    "    \\overline{V}_\\theta = \n",
    "    \\overline V(\\theta) &= \\int dt \\langle L(u, t, \\theta, \\lambda)\\rangle_{q_u q_\\lambda}\\\\\n",
    "    &= \\int L_\\theta + \n",
    "        \\frac 1 2\n",
    "        \\left(\n",
    "        \\tr[\\Sigma_u L_u^{(uu)}] +\n",
    "        \\tr[\\Sigma_\\lambda L_\\lambda^{(\\lambda\\lambda)}]\n",
    "        \\right)dt\\\\\n",
    "    \\overline{V}_\\lambda = \n",
    "    \\overline V(\\lambda) &= \\int dt \\langle L(u, t, \\theta, \\lambda)\\rangle_{q_u q_\\theta}\\\\\n",
    "    &= \\int L_\\lambda + \n",
    "        \\frac 1 2\n",
    "        \\left(\n",
    "        \\tr[\\Sigma_u L_u^{(uu)}] +\n",
    "        \\tr[\\Sigma_\\theta L_\\theta^{(\\theta\\theta)}]\n",
    "        \\right)dt\\\\\n",
    "    \\end{align}\n",
    "$$"
   ]
  },
  {
   "cell_type": "markdown",
   "metadata": {},
   "source": [
    "And the following differentials on variational actions, e.g., $V^{(u)}$, and $V^{(uu)}$, will become useful later."
   ]
  },
  {
   "cell_type": "markdown",
   "metadata": {},
   "source": [
    "Firstly, one defines the following notation for matrix vectorisation using colon $(:)$."
   ]
  },
  {
   "cell_type": "markdown",
   "metadata": {},
   "source": [
    "For instance, $L_\\theta^{(\\theta)}$ is in itself a column vector, given $\\theta = (\\theta_1, \\theta_2,\n",
    "\\theta_3, \\cdots)^T$"
   ]
  },
  {
   "cell_type": "markdown",
   "metadata": {},
   "source": [
    "$$\n",
    "\\left( L_\\theta^{(\\theta_1)}, L_\\theta^{(\\theta_2)}, L_\\theta^{(\\theta_3)}, \\cdots\\right)^T\n",
    "$$"
   ]
  },
  {
   "cell_type": "markdown",
   "metadata": {},
   "source": [
    "and therefore is equivalent to $L_\\theta^{(\\theta):} = L_\\theta^{(\\theta)}$. "
   ]
  },
  {
   "cell_type": "markdown",
   "metadata": {},
   "source": [
    "Whereas, $L_\\theta^{(\\theta\\theta)}$, which reads"
   ]
  },
  {
   "cell_type": "markdown",
   "metadata": {},
   "source": [
    "$$\n",
    "\\left(\n",
    "\\begin{array}{cccc}\n",
    "    L_\\theta^{(\\theta_1\\theta_1)} &\n",
    "    L_\\theta^{(\\theta_1\\theta_2)} &\n",
    "    L_\\theta^{(\\theta_1\\theta_3)} &\n",
    "    \\\\\n",
    "    L_\\theta^{(\\theta_2\\theta_1)} &\n",
    "    L_\\theta^{(\\theta_2\\theta_2)} &\n",
    "    L_\\theta^{(\\theta_2\\theta_3)} &\n",
    "    \\\\\n",
    "    L_\\theta^{(\\theta_3\\theta_1)} &\n",
    "    L_\\theta^{(\\theta_3\\theta_2)} &\n",
    "    L_\\theta^{(\\theta_3\\theta_3)} &\n",
    "    \\\\\n",
    "    &  & &\n",
    "    \\ddots\n",
    "    \\end{array}\n",
    "    \\right)\n",
    "$$"
   ]
  },
  {
   "cell_type": "markdown",
   "metadata": {},
   "source": [
    "would have $L_\\theta^{(\\theta\\theta):}$ that takes the form"
   ]
  },
  {
   "cell_type": "markdown",
   "metadata": {},
   "source": [
    "$$\\{\n",
    "L_\\theta^{(\\theta_1\\theta_1)},\n",
    "L_\\theta^{(\\theta_2\\theta_1)},\n",
    "L_\\theta^{(\\theta_3\\theta_1)},\n",
    "\\cdots,\n",
    "L_\\theta^{(\\theta_1\\theta_2)},\n",
    "L_\\theta^{(\\theta_2\\theta_2)},\n",
    "L_\\theta^{(\\theta_3\\theta_2)},\n",
    "\\cdots,\n",
    "L_\\theta^{(\\theta_1\\theta_3)},\n",
    "L_\\theta^{(\\theta_2\\theta_3)},\n",
    "L_\\theta^{(\\theta_3\\theta_3)},\n",
    "\\cdots\n",
    "\\}^T$$"
   ]
  },
  {
   "cell_type": "markdown",
   "metadata": {},
   "source": [
    "This follows that $L_\\theta^{(\\theta\\theta):(u)}$ is a matrix and $L_\\theta^{(\\theta\\theta):(uu)}$ is a 3-dimentional tensor. One has"
   ]
  },
  {
   "cell_type": "markdown",
   "metadata": {},
   "source": [
    "$$\n",
    "L_\\theta^{(\\theta\\theta):(u)} = \n",
    "    \\left(\\begin{array}{cccc}\n",
    "        L_\\theta^{(\\theta_1\\theta_1u_1)} &\n",
    "        L_\\theta^{(\\theta_1\\theta_1u_2)} &\n",
    "        L_\\theta^{(\\theta_1\\theta_1u_3)} &\n",
    "        \\\\\n",
    "        L_\\theta^{(\\theta_2\\theta_1u_1)} &\n",
    "        L_\\theta^{(\\theta_2\\theta_1u_2)} &\n",
    "        L_\\theta^{(\\theta_2\\theta_1u_3)} & \n",
    "        \\\\\n",
    "        L_\\theta^{(\\theta_3\\theta_1u_1)} &\n",
    "        L_\\theta^{(\\theta_3\\theta_1u_2)} &\n",
    "        L_\\theta^{(\\theta_3\\theta_1u_3)} &\n",
    "        \\\\\n",
    "        & \\vdots & & \\cdots\\\\\n",
    "        L_\\theta^{(\\theta_1\\theta_2u_1)} &\n",
    "        L_\\theta^{(\\theta_1\\theta_2u_2)} &\n",
    "        L_\\theta^{(\\theta_1\\theta_2u_3)} &\n",
    "        \\\\\n",
    "        L_\\theta^{(\\theta_2\\theta_2u_1)} &\n",
    "        L_\\theta^{(\\theta_2\\theta_2u_2)} &\n",
    "        L_\\theta^{(\\theta_2\\theta_2u_3)} &\n",
    "        \\\\\n",
    "        L_\\theta^{(\\theta_3\\theta_2u_1)} &\n",
    "        L_\\theta^{(\\theta_3\\theta_2u_2)} &\n",
    "        L_\\theta^{(\\theta_3\\theta_2u_3)} &\n",
    "        \\\\\n",
    "        & & & \\ddots\n",
    "        \\end{array}\n",
    "        \\right)\n",
    "$$"
   ]
  },
  {
   "cell_type": "markdown",
   "metadata": {},
   "source": [
    "and"
   ]
  },
  {
   "cell_type": "markdown",
   "metadata": {},
   "source": [
    "$$\n",
    "L_\\theta^{(\\theta\\theta):(uu):} = \n",
    "    \\left(\\begin{array}{cccccc}\n",
    "        L_\\theta^{(\\theta_1\\theta_1u_1u_1)} &\n",
    "        L_\\theta^{(\\theta_1\\theta_1u_2u_1)} &\n",
    "        &\n",
    "        L_\\theta^{(\\theta_1\\theta_1u_1u_2)} &\n",
    "        L_\\theta^{(\\theta_1\\theta_1u_2u_2)} &\n",
    "        \\\\\n",
    "        L_\\theta^{(\\theta_2\\theta_1u_1u_1)} &\n",
    "        L_\\theta^{(\\theta_2\\theta_1u_2u_1)} &\n",
    "        \\cdots &\n",
    "        L_\\theta^{(\\theta_2\\theta_1u_1u_2)} &\n",
    "        L_\\theta^{(\\theta_2\\theta_1u_2u_2)} &\n",
    "        \\\\\n",
    "        L_\\theta^{(\\theta_3\\theta_1u_1u_1)} &\n",
    "        L_\\theta^{(\\theta_3\\theta_1u_2u_1)} &\n",
    "        &\n",
    "        L_\\theta^{(\\theta_3\\theta_1u_1u_2)} &\n",
    "        L_\\theta^{(\\theta_3\\theta_1u_2u_2)} &\n",
    "        \\\\\n",
    "        & & \\vdots & & & \\cdots\n",
    "        \\\\\n",
    "        L_\\theta^{(\\theta_1\\theta_2u_1u_1)} &\n",
    "        L_\\theta^{(\\theta_1\\theta_2u_2u_1)} &\n",
    "        &\n",
    "        L_\\theta^{(\\theta_1\\theta_2u_1u_2)} &\n",
    "        L_\\theta^{(\\theta_1\\theta_2u_2u_2)} &\n",
    "        \\\\\n",
    "        L_\\theta^{(\\theta_2\\theta_2u_1u_1)} &\n",
    "        L_\\theta^{(\\theta_2\\theta_2u_2u_1)} &\n",
    "        \\cdots &\n",
    "        L_\\theta^{(\\theta_2\\theta_2u_1u_2)} &\n",
    "        L_\\theta^{(\\theta_2\\theta_2u_2u_2)} &\n",
    "        \\\\\n",
    "        L_\\theta^{(\\theta_3\\theta_2u_1u_1)} &\n",
    "        L_\\theta^{(\\theta_3\\theta_2u_2u_1)} &\n",
    "        &\n",
    "        L_\\theta^{(\\theta_3\\theta_2u_1u_2)} &\n",
    "        L_\\theta^{(\\theta_3\\theta_2u_2u_2)} &\\\\\n",
    "        & & & & & \\ddots\n",
    "        \\end{array}\n",
    "        \\right)\n",
    "$$"
   ]
  },
  {
   "cell_type": "markdown",
   "metadata": {},
   "source": [
    "Adopting these notations, the differentials of variational actions are"
   ]
  },
  {
   "cell_type": "markdown",
   "metadata": {},
   "source": [
    "$$\n",
    "\\begin{eqnarray*}\n",
    "    V_u^{(u)} &= L_u^{(u)}& +\\frac 1 2\n",
    "        {L_\\theta^{(\\theta\\theta):(u)}}^T\n",
    "        \\left(\\Sigma^T\\!\\!\\!:_\\theta\\right) +\n",
    "        \\frac 1 2\n",
    "        {L_\\lambda^{(\\lambda\\lambda):(u)}}^T\n",
    "        \\left(\\Sigma^T\\!\\!\\!:_\\lambda\\right)\n",
    "        \\\\\n",
    "    V_u^{(uu):} &= L_u^{(uu):}& +\\frac 1 2\n",
    "        {L_\\theta^{(\\theta\\theta):(uu):}}^T\n",
    "        \\left(\\Sigma^T\\!\\!\\!:_\\theta\\right) +\n",
    "        \\frac 1 2\n",
    "        {L_\\lambda^{(\\lambda\\lambda):(uu):}}^T\n",
    "        \\left(\\Sigma^T\\!\\!\\!:_\\lambda\\right)\n",
    "    \\end{eqnarray*}\n",
    "$$"
   ]
  },
  {
   "cell_type": "markdown",
   "metadata": {},
   "source": [
    "$$\n",
    "\\begin{eqnarray*}\n",
    "    \\overline V_\\theta^{(\\theta)} &= \\int L_\\theta^{(\\theta)}& +\n",
    "        \\frac 1 2      \n",
    "        {L_u^{(uu):(\\theta)}}^T\n",
    "        \\left(\\Sigma^T\\!\\!\\!:_u\\right) +\n",
    "        \\frac 1 2 \n",
    "        {L_\\lambda^{(\\lambda\\lambda):(\\theta)}}^T\n",
    "        \\left(\\Sigma^T\\!\\!\\!:_\\lambda\\right)dt\\\\\n",
    "    \\overline V_\\theta^{(\\theta\\theta):} &= \\int L_\\theta^{(\\theta\\theta):}& +\n",
    "        \\frac 1 2 \n",
    "        {L_u^{(uu):(\\theta\\theta):}}^T\n",
    "        \\left(\\Sigma^T\\!\\!\\!:_u\\right) +\n",
    "        \\frac 1 2\n",
    "        {L_\\lambda^{(\\lambda\\lambda):(\\theta\\theta):}}^T\n",
    "        \\left(\\Sigma^T\\!\\!\\!:_\\lambda\\right)dt\n",
    "    \\end{eqnarray*}\n",
    "$$"
   ]
  },
  {
   "cell_type": "markdown",
   "metadata": {},
   "source": [
    "$$\n",
    "\\begin{eqnarray*}\n",
    "    \\overline V_\\lambda^{(\\lambda)} &= \\int L_\\lambda^{(\\lambda)}& +\n",
    "        \\frac 1 2 \n",
    "        {L_u^{(uu):(\\lambda)}}^T\n",
    "        \\left(\\Sigma^T\\!\\!\\!:_u\\right) +\n",
    "        \\frac 1 2\n",
    "        {L_\\theta^{(\\theta\\theta):(\\lambda)}}^T\n",
    "        \\left(\\Sigma^T\\!\\!\\!:_\\theta\\right)dt\\\\\n",
    "    \\overline V_\\lambda^{(\\lambda\\lambda):} &= \\int L_\\lambda^{(\\lambda\\lambda):}& +\n",
    "        \\frac 1 2 \n",
    "        {L_u^{(uu):(\\lambda\\lambda):}}^T\n",
    "        \\left(\\Sigma^T\\!\\!\\!:_u\\right) +\n",
    "        \\frac 1 2 \n",
    "        {L_\\theta^{(\\theta\\theta):(\\lambda\\lambda):}}^T\n",
    "        \\left(\\Sigma^T\\!\\!\\!:_\\theta\\right)dt\n",
    "    \\end{eqnarray*}\n",
    "$$"
   ]
  },
  {
   "cell_type": "markdown",
   "metadata": {},
   "source": [
    "### § Optimisation: embedding and mode following"
   ]
  },
  {
   "cell_type": "markdown",
   "metadata": {},
   "source": [
    "Suppose the time-dependent state, $u$, subsumes its motion up to arbitrary high order, one may unpack this and write $\\tilde u = (u, u', u'', \\dots)^T$."
   ]
  },
  {
   "cell_type": "markdown",
   "metadata": {},
   "source": [
    "Let this generalised state move along the gradient of variational energy/action, hoping to catch up the motion one level above when the gradient vanishes:"
   ]
  },
  {
   "cell_type": "markdown",
   "metadata": {},
   "source": [
    "$$\n",
    "\\begin{align}\n",
    "    \\dot{\\tilde u} &= V_u^{(u)} + \\mathcal D\\tilde u\n",
    "    \\end{align}\n",
    "$$"
   ]
  },
  {
   "cell_type": "markdown",
   "metadata": {},
   "source": [
    "This way, when $V_u^{(u)} = 0$ (this happens at the mode where $\\tilde u = \\tilde\\mu$), one has"
   ]
  },
  {
   "cell_type": "markdown",
   "metadata": {},
   "source": [
    "$$\n",
    "\\begin{align}\n",
    "    \\dot u &= u'\\\\\n",
    "    \\dot u' &= u''\\\\\n",
    "    \\dot u'' &= u'''\\\\\n",
    "    &\\vdots\n",
    "    \\end{align}\n",
    "$$"
   ]
  },
  {
   "cell_type": "markdown",
   "metadata": {},
   "source": [
    "Thus, motion of the modes becomes modes of the motion. Here, $\\mathcal D$ is a differential operator, or simply a delay matrix."
   ]
  },
  {
   "cell_type": "markdown",
   "metadata": {},
   "source": [
    "Let us find the linearisation of this state motion around its mode, $\\tilde\\mu$, which follows that"
   ]
  },
  {
   "cell_type": "markdown",
   "metadata": {},
   "source": [
    "$$\n",
    "V_u^{(u)} = V(\\tilde\\mu)_u^{(u)} + V(\\tilde\\mu_u)^{(uu)}(\\tilde u - \\tilde\\mu) = V(\\tilde\\mu_u)^{(uu)}(\\tilde u - \\tilde\\mu)\n",
    "$$"
   ]
  },
  {
   "cell_type": "markdown",
   "metadata": {},
   "source": [
    "And have $\\tilde\\varepsilon = \\tilde u - \\tilde\\mu$, so that $\\dot{\\tilde\\varepsilon} = \n",
    "\\dot{\\tilde u} - \\dot{\\tilde\\mu} = \\dot{\\tilde u} - \\mathcal D\\tilde\\mu$."
   ]
  },
  {
   "cell_type": "markdown",
   "metadata": {},
   "source": [
    "With substitution, write"
   ]
  },
  {
   "cell_type": "markdown",
   "metadata": {},
   "source": [
    "$$\n",
    "\\begin{align}\n",
    "    \\dot{\\tilde\\varepsilon} &=\n",
    "        V_u^{(uu)}\\tilde\\varepsilon + \\mathcal D\\tilde u - \\mathcal D\\tilde\\mu\\\\\n",
    "    &= \\left(V_u^{(uu)} +\\mathcal D\\right)\\tilde\\varepsilon\n",
    "    \\end{align}\n",
    "$$"
   ]
  },
  {
   "cell_type": "markdown",
   "metadata": {},
   "source": [
    "and note $\\mathcal J = \\left( V_u^{(uu)} + \\mathcal D\\right) = \\partial\\dot{\\tilde u}/\\partial\\tilde u$."
   ]
  },
  {
   "cell_type": "markdown",
   "metadata": {},
   "source": [
    "#### Finding conditional expectation (updating scheme)"
   ]
  },
  {
   "cell_type": "markdown",
   "metadata": {},
   "source": [
    "The updating scheme is again derived from Ozaki's local linearisation:"
   ]
  },
  {
   "cell_type": "markdown",
   "metadata": {},
   "source": [
    "$$\n",
    "\\begin{align}\n",
    "    \\Delta \\tilde u &= \\left(\n",
    "        \\exp(\\mathcal J) - I\\right)\n",
    "        \\mathcal J^{-1}\n",
    "        \\dot{\\tilde u}\\\\\n",
    "    &= \\left(\n",
    "        \\exp(\\mathcal J) - I\\right)\n",
    "        \\mathcal J^{-1}\n",
    "        \\left(V_u^{(u)} + \\mathcal D\\tilde u\\right)\n",
    "    \\end{align}\n",
    "$$"
   ]
  },
  {
   "cell_type": "markdown",
   "metadata": {},
   "source": [
    "For parameters and hyperparameters, this reduces to"
   ]
  },
  {
   "cell_type": "markdown",
   "metadata": {},
   "source": [
    "$$\n",
    "\\begin{align}\n",
    "    \\Delta \\theta &= {\\overline V_\\theta^{(\\theta\\theta)}}^{-1}\n",
    "        \\overline V_\\theta^{(\\theta)}\\\\\n",
    "    \\Delta \\lambda &= {\\overline V_\\lambda^{(\\lambda\\lambda)}}^{-1}\n",
    "        \\overline V_\\lambda^{(\\lambda)}\n",
    "    \\end{align}\n",
    "$$"
   ]
  },
  {
   "cell_type": "markdown",
   "metadata": {},
   "source": [
    "### § Example 1: Dynamic causal model"
   ]
  },
  {
   "cell_type": "markdown",
   "metadata": {},
   "source": [
    "$$\n",
    "\\begin{align}\n",
    "    y &= g(x, v; \\theta) + z,\\;\\;\\; z\\sim N(0, \\Pi(\\lambda)^{-1}_z)\\\\\n",
    "    \\dot x &= f(x, v; \\theta) + w,\\;\\;\\; w\\sim N(0, \\Pi(\\lambda)^{-1}_w)\n",
    "    \\end{align}\n",
    "$$"
   ]
  },
  {
   "cell_type": "markdown",
   "metadata": {},
   "source": [
    "$$\n",
    "\\begin{align}\n",
    "    \\ln p(y, u, t, \\theta, \\lambda) &= L(y|x, v, \\theta, \\lambda) + L(x|v, \\theta,\\lambda) + L(\\theta) + L(\\lambda)\n",
    "    \\end{align}\n",
    "$$"
   ]
  },
  {
   "cell_type": "markdown",
   "metadata": {},
   "source": [
    "where $u=(v, x)^T$ and let $p(v)$ be uninformative for now. And let the parameter, $\\theta$, and hyperparameter, $\\lambda$, be independent and take the following form"
   ]
  },
  {
   "cell_type": "markdown",
   "metadata": {},
   "source": [
    "$$\n",
    "\\begin{align}\n",
    "    p(\\theta) &= N(\\theta|\\eta_\\theta, P^{-1}_\\theta)\\\\\n",
    "    p(\\lambda) &= N(\\lambda|\\eta_\\lambda, P^{-1}_\\lambda)\n",
    "    \\end{align}\n",
    "$$"
   ]
  },
  {
   "cell_type": "markdown",
   "metadata": {},
   "source": [
    "which altogether lend the generative density to an analytical form"
   ]
  },
  {
   "cell_type": "markdown",
   "metadata": {},
   "source": [
    "$$\n",
    "\\begin{align}\n",
    "    L(t) &= -\n",
    "        \\frac 1 2 \\varepsilon_v^T\\Pi_z\\varepsilon_v -\n",
    "        \\frac 1 2 \\varepsilon_x^T\\Pi_w\\varepsilon_x -\n",
    "        \\frac 1 2 \\varepsilon_\\theta^T P_\\theta \\varepsilon_\\theta -\n",
    "        \\frac 1 2 \\varepsilon_\\lambda^T P_\\lambda \\varepsilon_\\lambda -\n",
    "        \\frac 1 2 \\ln|\\Pi_z| -\n",
    "        \\frac 1 2 \\ln|\\Pi_w| - \n",
    "        \\frac 1 2 \\ln|P_\\theta| - \n",
    "        \\frac 1 2 \\ln|P_\\lambda|\n",
    "    \\end{align}\n",
    "$$"
   ]
  },
  {
   "cell_type": "markdown",
   "metadata": {},
   "source": [
    "where"
   ]
  },
  {
   "cell_type": "markdown",
   "metadata": {},
   "source": [
    "$$\n",
    "\\begin{align}\n",
    "    \\varepsilon_v &= y - g(x, v)\\\\\n",
    "    \\varepsilon_x &= \\dot x - f(x, v)\\\\\n",
    "    \\varepsilon_\\theta &= \\theta - \\eta_\\theta\\\\\n",
    "    \\varepsilon_\\lambda &= \\lambda - \\eta_\\lambda\n",
    "    \\end{align}\n",
    "$$"
   ]
  },
  {
   "cell_type": "markdown",
   "metadata": {},
   "source": [
    "If one lumps the time-dependent terms together:"
   ]
  },
  {
   "cell_type": "markdown",
   "metadata": {},
   "source": [
    "$$\n",
    "\\begin{align}\n",
    "    \\varepsilon_u &= \\left( \\varepsilon_v, \\varepsilon_x \\right)^T\\\\\n",
    "    \\Pi &= \\left(\\begin{array}{cc}\n",
    "        \\Pi_z & \\\\\n",
    "        & \\Pi_w\n",
    "        \\end{array}\\right) =\n",
    "        \\left(\\begin{array}{cc}\n",
    "        C_z^{-1} &\\\\\n",
    "        & C_w^{-1}\n",
    "        \\end{array}\n",
    "        \\right) = C^{-1}\n",
    "    \\end{align}\n",
    "$$"
   ]
  },
  {
   "cell_type": "markdown",
   "metadata": {},
   "source": [
    "one writes"
   ]
  },
  {
   "cell_type": "markdown",
   "metadata": {},
   "source": [
    "$$\n",
    "\\begin{align}\n",
    "    L(t) &= -\n",
    "        \\frac 1 2 \\varepsilon_u^T\\Pi\\varepsilon_u -\n",
    "        \\frac 1 2 \\varepsilon_\\theta^T P_\\theta \\varepsilon_\\theta -\n",
    "        \\frac 1 2 \\varepsilon_\\lambda^T P_\\lambda \\varepsilon_\\lambda -\n",
    "        \\frac 1 2 \\ln|\\Pi| -\n",
    "        \\frac 1 2 \\ln|P_\\theta| - \n",
    "        \\frac 1 2 \\ln|P_\\lambda|\n",
    "    \\end{align}\n",
    "$$"
   ]
  },
  {
   "cell_type": "markdown",
   "metadata": {},
   "source": [
    "And let this expression prescribe generalised motion over its states, write"
   ]
  },
  {
   "cell_type": "markdown",
   "metadata": {},
   "source": [
    "$$\n",
    "\\begin{align}\n",
    "    L(t) &= -\n",
    "        \\frac 1 2 \\tilde{\\varepsilon_u}^T \\tilde\\Pi \\tilde{\\varepsilon_u} -\n",
    "        \\frac 1 2 \\varepsilon_\\theta^T P_\\theta \\varepsilon_\\theta -\n",
    "        \\frac 1 2 \\varepsilon_\\lambda^T P_\\lambda \\varepsilon_\\lambda -\n",
    "        \\frac 1 2 \\ln|\\tilde\\Pi| -\n",
    "        \\frac 1 2 \\ln|P_\\theta| - \n",
    "        \\frac 1 2 \\ln|P_\\lambda|\n",
    "    \\end{align}\n",
    "$$"
   ]
  },
  {
   "cell_type": "markdown",
   "metadata": {},
   "source": [
    "#### Conditional precision $\\pmb\\Lambda_u$"
   ]
  },
  {
   "cell_type": "markdown",
   "metadata": {},
   "source": [
    "For state $u$, the conditional precision, $\\Lambda_u=-L(t)^{(uu)}$, is"
   ]
  },
  {
   "cell_type": "markdown",
   "metadata": {},
   "source": [
    "$$\n",
    "\\tilde{\\varepsilon_u^{(u)}}^T \\tilde\\Pi \\tilde{\\varepsilon_u^{(u)}}\n",
    "$$"
   ]
  },
  {
   "cell_type": "markdown",
   "metadata": {},
   "source": [
    "where"
   ]
  },
  {
   "cell_type": "markdown",
   "metadata": {},
   "source": [
    "$$\n",
    "\\begin{align}\n",
    "    \\tilde{\\varepsilon_u^{(u)}} &= \\left(\n",
    "        \\begin{array}{cc}\n",
    "            \\tilde{\\varepsilon_v^{(v)}} &\n",
    "            \\tilde{\\varepsilon_v^{(x)}} \\\\\n",
    "            \\tilde{\\varepsilon_x^{(v)}} &\n",
    "            \\tilde{\\varepsilon_x^{(x)}}\n",
    "            \\end{array}\n",
    "            \\right)\\\\\n",
    "    \\tilde{\\varepsilon_v^{(v)}} &= \\left(\n",
    "        \\begin{array}{c}\n",
    "            \\varepsilon_v^{(\\tilde v)}\\\\\n",
    "            \\varepsilon_{v'}^{(\\tilde v)}\\\\\n",
    "            \\varepsilon_{v''}^{(\\tilde v)}\\\\\n",
    "            \\vdots\n",
    "            \\end{array}\n",
    "            \\right) = \\left(\n",
    "        \\begin{array}{cccc}\n",
    "            \\varepsilon_v^{(v)} &\n",
    "            \\varepsilon_v^{(v')} &\n",
    "            \\varepsilon_v^{(v'')} &\n",
    "            \\\\\n",
    "            \\varepsilon_{v'}^{(v)} &\n",
    "            \\varepsilon_{v'}^{(v')} &\n",
    "            \\varepsilon_{v'}^{(v'')} &\n",
    "            \\cdots\n",
    "            \\\\\n",
    "            \\varepsilon_{v''}^{(v)} &\n",
    "            \\varepsilon_{v''}^{(v')} &\n",
    "            \\varepsilon_{v''}^{(v'')} &\n",
    "            \\\\\n",
    "             & \\vdots & & \\ddots\n",
    "            \\end{array}\n",
    "            \\right) =\n",
    "        -I \\otimes g^{(v)}\\\\\n",
    "    \\tilde{\\varepsilon_x^{(x)}} &= \\left[\\mathcal D\\tilde x - \\tilde f\\right]^{(\\tilde x)} =\n",
    "        \\mathcal D - I \\otimes f^{(x)}\n",
    "    \\end{align}\n",
    "$$"
   ]
  },
  {
   "cell_type": "markdown",
   "metadata": {},
   "source": [
    "See [A.4 generalised motion](?)."
   ]
  },
  {
   "cell_type": "markdown",
   "metadata": {},
   "source": [
    "Thus,"
   ]
  },
  {
   "cell_type": "markdown",
   "metadata": {},
   "source": [
    "$$\n",
    "\\tilde{\\varepsilon_u^{(u)}} = -\\left(\n",
    "    \\begin{array}{cc}\n",
    "        I\\otimes g^{(v)} &\n",
    "        I\\otimes g^{(x)} \\\\\n",
    "        I\\otimes f^{(v)} &\n",
    "        I\\otimes f^{(x)} - \\mathcal D\n",
    "        \\end{array}\n",
    "        \\right)\n",
    "$$"
   ]
  },
  {
   "cell_type": "markdown",
   "metadata": {},
   "source": [
    "#### Conditional precision $\\pmb\\Lambda_\\theta$"
   ]
  },
  {
   "cell_type": "markdown",
   "metadata": {},
   "source": [
    "Conditional precision over parameter, $\\Lambda_\\theta = -L(t)^{(\\theta\\theta)}$ is"
   ]
  },
  {
   "cell_type": "markdown",
   "metadata": {},
   "source": [
    "$$\n",
    "\\tilde{\\varepsilon_u^{(\\theta)}}^T \\tilde\\Pi \\tilde{\\varepsilon_u^{(\\theta)}} + P_\\theta\n",
    "$$"
   ]
  },
  {
   "cell_type": "markdown",
   "metadata": {},
   "source": [
    "Let $\\theta = (\\theta_{1}, \\theta_{2}, \\dots, \\theta_{k}, \\dots, \\theta_{K})^T$."
   ]
  },
  {
   "cell_type": "markdown",
   "metadata": {},
   "source": [
    "$$\n",
    "\\begin{align}\n",
    "    \\tilde{\\varepsilon_u^{(\\theta_{k})}} &= \\left(\n",
    "        \\begin{array}{c}\n",
    "            \\tilde y - \\tilde g\\\\\n",
    "            \\mathcal D\\tilde x - \\tilde f\n",
    "            \\end{array}\n",
    "            \\right)^{(\\theta_{k})} = -\\left(\n",
    "        \\begin{array}{c}\n",
    "            \\tilde{g^{(\\theta_{k})}}\\\\\n",
    "            \\tilde{f^{(\\theta_{k})}}\n",
    "            \\end{array}\n",
    "            \\right)\\\\\n",
    "    &= \\left(\n",
    "        \\begin{array}{cc}\n",
    "            I\\otimes g^{(v\\theta_{k})} &\n",
    "            I\\otimes g^{(x\\theta_{k})} \\\\\n",
    "            I\\otimes f^{(v\\theta_{k})} &\n",
    "            I\\otimes f^{(x\\theta_{k})}\n",
    "            \\end{array}\n",
    "            \\right) \\left(\n",
    "        \\begin{array}{c}\n",
    "            \\tilde v\\\\\n",
    "            \\tilde x\n",
    "            \\end{array}\n",
    "            \\right)\n",
    "    \\end{align}\n",
    "$$"
   ]
  },
  {
   "cell_type": "markdown",
   "metadata": {},
   "source": [
    "#### Conditional precision $\\pmb\\Lambda_\\lambda$"
   ]
  },
  {
   "cell_type": "markdown",
   "metadata": {},
   "source": [
    "Conditional precision over hyperparameter, $\\Lambda_\\lambda = -L(t)^{(\\lambda\\lambda)}$, is, assuming $\\lambda_i, \\lambda_j\\in\\lambda$"
   ]
  },
  {
   "cell_type": "markdown",
   "metadata": {},
   "source": [
    "$$\n",
    "\\begin{align}\n",
    "    &\\frac{\\partial^2}{\\partial\\lambda_j\\partial\\lambda_i}\\left(\n",
    "        -\\frac 1 2 \\tilde{\\varepsilon_u}^T\\tilde\\Pi\\tilde{\\varepsilon_u} -\n",
    "        \\frac 1 2 \\ln|\\Pi|\\right)\\\\\n",
    "    =& -\\frac 1 2\n",
    "        \\frac{\\partial}{\\partial\\lambda_j}\\left[\n",
    "        \\tilde{\\varepsilon_u}^T \\frac{\\partial}{\\partial\\lambda_i}\\tilde\\Pi \\tilde{\\varepsilon_u} +\n",
    "        \\frac{\\partial}{\\partial\\lambda_i}\\ln|\\tilde\\Pi|\n",
    "        \\right]\\\\\n",
    "    =& -\\frac 1 2\n",
    "        \\tilde\\Pi^{(\\lambda_i)}\n",
    "        \\tr\\left[\n",
    "        \\tilde C \\tilde\\Pi^{(\\lambda_j)} \\tilde C \\tilde\\Pi^{(\\lambda_i)}\n",
    "        \\right]\n",
    "    \\end{align}\n",
    "$$"
   ]
  },
  {
   "cell_type": "markdown",
   "metadata": {},
   "source": [
    "where"
   ]
  },
  {
   "cell_type": "markdown",
   "metadata": {},
   "source": [
    "$$\n",
    "\\begin{align}\n",
    "    & \\tilde{\\varepsilon_u}^T \\frac{\\partial}{\\partial\\lambda_i}\\tilde\\Pi \\tilde{\\varepsilon_u}\\\\\n",
    "    &= \\vec(\\tilde{\\varepsilon_u}\\tilde{\\varepsilon_u}^T)^T\n",
    "        \\vec(\\tilde{\\Pi}^{(\\lambda_i)})\\\\\n",
    "    &= \\tr\\left[\n",
    "        \\tilde{\\varepsilon_u} \\tilde{\\varepsilon_u}^T \\tilde{\\Pi}^{(\\lambda_i)}\n",
    "        \\right]\n",
    "    \\end{align}\n",
    "$$"
   ]
  },
  {
   "cell_type": "markdown",
   "metadata": {},
   "source": [
    "$$\n",
    "\\begin{align}\n",
    "    \\frac{\\partial}{\\partial\\lambda_i}\\ln|\\tilde\\Pi| &=\n",
    "        \\frac{\\partial\\tilde\\Pi}{\\partial\\lambda_i}\n",
    "        \\frac{\\partial|\\tilde\\Pi|}{\\partial\\tilde\\Pi}\n",
    "        \\frac{\\partial}{\\partial|\\tilde\\Pi|}\\ln|\\tilde\\Pi|\\\\\n",
    "    &= \\tilde\\Pi^{(\\lambda_i)}\n",
    "        |\\tilde\\Pi|\\tr\\left[\\tilde C \\tilde\\Pi^{(\\lambda_i)}\\right]\n",
    "        \\frac{1}{|\\tilde\\Pi|}\\\\\n",
    "    &= \\tilde\\Pi^{(\\lambda_i)}\n",
    "        \\tr\\left[\\tilde C \\tilde\\Pi^{(\\lambda_i)}\\right]\n",
    "    \\end{align}\n",
    "$$"
   ]
  },
  {
   "cell_type": "markdown",
   "metadata": {},
   "source": [
    "\\begin{align}\n",
    "    \\frac{\\partial^2}{\\partial\\lambda_j\\partial\\lambda_i}\\ln|\\tilde\\Pi| &= \n",
    "        \\frac{\\partial}{\\partial\\lambda_j}\n",
    "        \\tilde\\Pi^{(\\lambda_i)}\n",
    "        \\tr\\left[\\tilde C \\tilde\\Pi^{(\\lambda_i)}\\right]\\\\\n",
    "    &=\\tilde\\Pi^{(\\lambda_i\\lambda_j)}\n",
    "        \\tr\\left[\n",
    "        \\tilde C \\tilde\\Pi^{(\\lambda_i)}\n",
    "        \\right] +\n",
    "        \\tilde\\Pi^{(\\lambda_i)}\n",
    "        \\tr\\left[\n",
    "        \\tilde C \\tilde\\Pi^{(\\lambda_j)} \\tilde C \\tilde\\Pi^{(\\lambda_i)} +\n",
    "        \\tilde C \\tilde\\Pi^{(\\lambda_i\\lambda_j)}\n",
    "        \\right]\\\\\n",
    "    &= \\tilde\\Pi^{(\\lambda_i)}\n",
    "        \\tr\\left[\n",
    "        \\tilde C \\tilde\\Pi^{(\\lambda_j)} \\tilde C \\tilde\\Pi^{(\\lambda_i)}\n",
    "        \\right]\\;\\;\\;\\;(\n",
    "        \\text{if $\\partial^2 \\tilde\\Pi/\\partial\\lambda\\partial\\lambda = 0$})\n",
    "    \\end{align}"
   ]
  },
  {
   "cell_type": "markdown",
   "metadata": {},
   "source": [
    "See [Differentials of determinant](http://www.ee.ic.ac.uk/hp/staff/dmb/matrix/calculus.html#deriv_det)\n",
    ", [Differentials of inverses and trace](http://www.ee.ic.ac.uk/hp/staff/dmb/matrix/calculus.html#deriv_inv) from Matrix Reference Manual."
   ]
  },
  {
   "cell_type": "markdown",
   "metadata": {},
   "source": [
    "#### Conditional expectation over state (updating scheme)"
   ]
  },
  {
   "cell_type": "markdown",
   "metadata": {},
   "source": [
    "Before calling upon Ozaki's scheme, one recalls that the observation, which affects the variational energy as well, has to be considered:"
   ]
  },
  {
   "cell_type": "markdown",
   "metadata": {},
   "source": [
    "$$\n",
    "\\left(\\begin{array}{c}\n",
    "    \\dot{\\tilde y}\\\\\n",
    "    \\dot{\\tilde u}\n",
    "    \\end{array}\\right) =\n",
    "\\left(\\begin{array}{c}\n",
    "    \\mathcal D\\tilde y\\\\\n",
    "    V_u^{(u)} + \\mathcal D \\tilde u\n",
    "    \\end{array}\\right) \\implies\n",
    "\\mathcal J =\n",
    "\\left(\\begin{array}{cc}\n",
    "    \\partial\\dot{\\tilde y}/\\partial\\tilde y &\n",
    "    \\partial\\dot{\\tilde y}/\\partial\\tilde u \\\\\n",
    "    \\partial\\dot{\\tilde u}/\\partial\\tilde y &\n",
    "    \\partial\\dot{\\tilde u}/\\partial\\tilde u\n",
    "    \\end{array}\\right) = \n",
    "\\left(\\begin{array}{cc}\n",
    "    \\mathcal D & 0\\\\\n",
    "    V_u^{(uy)} &\n",
    "    V_u^{(uu)} + \\mathcal D\n",
    "    \\end{array}\\right)\n",
    "$$"
   ]
  },
  {
   "cell_type": "markdown",
   "metadata": {},
   "source": [
    "Thus,"
   ]
  },
  {
   "cell_type": "markdown",
   "metadata": {},
   "source": [
    "$$\n",
    "\\left(\\begin{array}{c}\n",
    "    \\Delta\\tilde y\\\\\n",
    "    \\Delta\\tilde u\n",
    "    \\end{array}\n",
    "    \\right) = \n",
    "\\left(\\exp(\\mathcal J) - I\\right)\n",
    "\\mathcal J^{-1}\n",
    "\\left(\\begin{array}{c}\n",
    "    \\mathcal D\\tilde y\\\\\n",
    "    V_u^{(u)} + \\mathcal D\n",
    "    \\end{array}\n",
    "    \\right)\n",
    "$$"
   ]
  },
  {
   "cell_type": "markdown",
   "metadata": {},
   "source": [
    "#### Remarks\n",
    "\n",
    "We have not seen the above inversion scheme realised for the causal state $\\tilde v$. This is because one assumes it to be flat and uninformative. This will be relaxed in the following section, where one generalised the dynamic causal model into hierarchical dynamic model."
   ]
  },
  {
   "cell_type": "markdown",
   "metadata": {},
   "source": [
    "### Example 2: Hierarchical dynamic model"
   ]
  },
  {
   "cell_type": "code",
   "execution_count": 75,
   "metadata": {
    "collapsed": true
   },
   "outputs": [],
   "source": [
    "import numpy as np\n",
    "import matplotlib.pyplot as plt\n",
    "import scipy.stats as stat\n",
    "import theano\n",
    "import theano.tensor as T\n",
    "%matplotlib inline"
   ]
  },
  {
   "cell_type": "code",
   "execution_count": 79,
   "metadata": {
    "collapsed": false
   },
   "outputs": [],
   "source": [
    "pPz = np.exp(8)\n",
    "pPw = np.exp(16)\n",
    "z1 = stat.multivariate_normal(mean=[0, 0, 0, 0], cov=np.eye(4) / pPz)\n",
    "w1 = stat.multivariate_normal(mean=[0, 0], cov=np.eye(2) / pPw)\n",
    "dt = 0.5\n",
    "v = []  # dim=1\n",
    "x = []  # dim=2\n",
    "Y = []  # dim=4\n",
    "\n",
    "Coef = {}\n",
    "Coef[1] = np.array([\n",
    "    [.1250,  .1633],\n",
    "    [.1250,  .0676],\n",
    "    [.1250, -.0676],\n",
    "    [.1250, -.1633]])\n",
    "Coef[2] = np.array([\n",
    "    [-.25,  1.00],\n",
    "    [-.50, - .25]])\n",
    "Coef[3] = np.array([1, 0])\n",
    "x0 = [0, 0]\n",
    "\n",
    "for t in range(32):\n",
    "    t0 = (t - 12) * dt\n",
    "    v0 = np.exp(-0.25 * (t0 ** 2))\n",
    "    f = np.dot(Coef[2], x0) + np.dot(Coef[3], v0)\n",
    "    g = np.dot(Coef[1], x0)\n",
    "    x0 = x0 + dt * f  + w1.rvs()\n",
    "    y0 = g + z1.rvs()\n",
    "    v.append(v0)\n",
    "    x.append(x0)\n",
    "    Y.append(y0)"
   ]
  },
  {
   "cell_type": "code",
   "execution_count": 80,
   "metadata": {
    "collapsed": false
   },
   "outputs": [
    {
     "data": {
      "image/png": "[encoded data removed]",
      "text/plain": [
       "<matplotlib.figure.Figure at 0x7fb10460be80>"
      ]
     },
     "metadata": {},
     "output_type": "display_data"
    }
   ],
   "source": [
    "plt.subplot(311)\n",
    "plt.plot(v);\n",
    "plt.subplot(312)\n",
    "plt.plot(x);\n",
    "plt.subplot(313)\n",
    "plt.plot(Y);"
   ]
  },
  {
   "cell_type": "markdown",
   "metadata": {},
   "source": [
    "___"
   ]
  },
  {
   "cell_type": "code",
   "execution_count": 83,
   "metadata": {
    "collapsed": true
   },
   "outputs": [],
   "source": [
    "# A/E/G/H\n",
    "def Dot(A, b):\n",
    "    return T.nlinalg.matrix_dot(A, b)\n",
    "\n",
    "def Jac(*args, **kwargs):\n",
    "    return T.jacobian(*args, disconnected_inputs='raise', **kwargs)\n",
    "\n",
    "def Hes(*args, **kwargs):\n",
    "    return T.hessian(*args, disconnected_inputs='raise', **kwargs)\n",
    "\n",
    "def Kron(A, B):\n",
    "    return T.slinalg.kron(A, B)\n",
    "\n",
    "En = 6  # T.iscalar('embedding order: state')\n",
    "Ed = 2  # T.iscalar('embedding order: cause')\n",
    "\n",
    "Di = 4  # dim=observation\n",
    "Dj = 2  # dim=state\n",
    "Dk = 1  # dim=cause\n",
    "D  = []  # differentiation operator\n",
    "\n",
    "y = T.vector('observation')\n",
    "\n",
    "x = [T.vector('state (n={})'.format(n)) for n in range(En + 1)]\n",
    "xGC = T.join(0, *x)\n",
    "xGC.name = 'state with embedding order {}'.format(En)\n",
    "\n",
    "v = [T.vector('cause (d={})'.format(d)) for d in range(Ed + 1)]\n",
    "vGC = T.join(0, *v)\n",
    "vGC.name = 'cause with embedding order {}'.format(Ed)\n",
    "\n",
    "g = Dot(Coef[1], x[0])\n",
    "f = Dot(Coef[2], x[0]) + Dot(Coef[3], v[0])\n",
    "\n",
    "\n",
    "# prediction over motion of data (vpredict)\n",
    "gx = T.join(0, [Jac(g[i], x[0]) for i in range(Di)])  # a 4x2 `matrix`\n",
    "vpredict = [g] + [Dot(gx, x[n + 1]) for n in range(En)]  \n",
    "\n",
    "# prediction over motion of state (xpredict)\n",
    "fx = T.join(0, [Jac(f[j], x[0]) for j in range(Dj)])  # a 2x2 `matrix`\n",
    "fv = T.join(0, [Jac(f[j], v[0]) for j in range(Dj)])  # a 2x1 `matrix`\n",
    "xpredict = [Dot(fx, x[n + 1]) for n in range(En)]\n",
    "xpredict = [f] + [xpredict[d] + Dot(fv, v[d + 1]) if d < Ed else xpredict[d] for d in range(En)]\n",
    "\n",
    "# prediction error over data (verr)\n",
    "\n",
    "# prediction error over state (xerr)"
   ]
  },
  {
   "cell_type": "code",
   "execution_count": null,
   "metadata": {
    "collapsed": false
   },
   "outputs": [],
   "source": []
  },
  {
   "cell_type": "markdown",
   "metadata": {},
   "source": [
    "*****"
   ]
  },
  {
   "cell_type": "markdown",
   "metadata": {},
   "source": [
    "$$\n",
    "\\begin{align}\n",
    "    \\dot u &= g(u)\\\\\n",
    "    \\ddot u &= \\dot u g^{(u)}\\\\\n",
    "    \\dddot u &= \\frac{\\partial}{\\partial t} \\ddot u\\\\\n",
    "    &= \\dot u \\frac{\\partial}{\\partial u} (\\dot u g^{(u)})\\\\\n",
    "    &= \\dot u \\frac{\\partial}{\\partial u} (g(u) g^{(u)})\\\\\n",
    "    &= \\underbrace{\\dot u g^{(u)}}_{=\\ddot u} g^{(u)} + \n",
    "        \\underbrace{\\dot u g(u)g^{(uu)}}_{\\text{ignored under local linearisation}}\n",
    "    \\end{align}\n",
    "$$"
   ]
  }
 ],
 "metadata": {
  "kernelspec": {
   "display_name": "Python 3",
   "language": "python",
   "name": "python3"
  },
  "language_info": {
   "codemirror_mode": {
    "name": "ipython",
    "version": 3
   },
   "file_extension": ".py",
   "mimetype": "text/x-python",
   "name": "python",
   "nbconvert_exporter": "python",
   "pygments_lexer": "ipython3",
   "version": "3.4.3"
  }
 },
 "nbformat": 4,
 "nbformat_minor": 0
}
