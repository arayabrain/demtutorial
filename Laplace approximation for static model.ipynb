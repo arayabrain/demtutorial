{
 "cells": [
  {
   "cell_type": "markdown",
   "metadata": {},
   "source": [
    "<script type=\"text/javascript\" async\n",
    "  src=\"https://cdn.mathjax.org/mathjax/latest/MathJax.js?config=TeX-MML-AM_CHTML\">\n",
    "</script>"
   ]
  },
  {
   "cell_type": "markdown",
   "metadata": {},
   "source": [
    "#### **Table of Content**\n",
    "Static model\n",
    "* [Free-energy](#free energy)\n",
    "* [Mean-field assumption](#mean-field approximation)\n",
    "* [Laplace approximation](#laplace approximation)\n",
    "* [Optimisation](#optimisation)\n",
    "* [Implementational consideration](#implementational consideration)\n",
    "* [Example 1](#example1)\n",
    "* [Example 2](#example2)\n",
    "* [Example 3](#example3)\n",
    "\n",
    "Appendix\n",
    "* [Multivariate normal distribution](#appendix1)\n",
    "* [Linearisation](#appendix3)"
   ]
  },
  {
   "cell_type": "markdown",
   "metadata": {},
   "source": [
    "$\\DeclareMathOperator{\\tr}{tr}$"
   ]
  },
  {
   "cell_type": "markdown",
   "metadata": {},
   "source": [
    "# Laplace approximation & free-energy"
   ]
  },
  {
   "cell_type": "markdown",
   "metadata": {},
   "source": [
    "<a id=\"free energy\"></a>\n",
    "### § Free-energy"
   ]
  },
  {
   "cell_type": "markdown",
   "metadata": {},
   "source": [
    "The Fristonian free-energy is\n",
    "\n",
    "$$\n",
    "F = U - S\n",
    "$$\n",
    "\n",
    "which comprises an energy term\n",
    "\n",
    "$$\n",
    "U = \\left\\langle \\ln p(y, \\vartheta|m) \\right\\rangle_q = \\left\\langle L \\right\\rangle_q\n",
    "$$\n",
    "\n",
    "and a (negative) Shannon entropy term\n",
    "\n",
    "$$\n",
    "S = \\left\\langle \\ln q(\\vartheta)\\right\\rangle\n",
    "$$"
   ]
  },
  {
   "cell_type": "markdown",
   "metadata": {},
   "source": [
    "<a id=\"mean-field approximation\"></a>\n",
    "### § Mean-field assumption"
   ]
  },
  {
   "cell_type": "markdown",
   "metadata": {},
   "source": [
    "With mean-field approximation over the variational density, $q$\n",
    "\n",
    "$$\n",
    "q(\\vartheta) = \\prod_i q_i(\\vartheta_i) = \\prod_i q_i.\n",
    "$$"
   ]
  },
  {
   "cell_type": "markdown",
   "metadata": {},
   "source": [
    "Let us for now assume the following case\n",
    "\n",
    "$$\n",
    "q(\\vartheta) = q_i(\\vartheta_i) q_j(\\vartheta_j) = q_i q_j,\\;\\;\\; j = \\backslash i\n",
    "$$"
   ]
  },
  {
   "cell_type": "markdown",
   "metadata": {},
   "source": [
    "and note that the following satisfies $\\delta F / \\delta q = 0$"
   ]
  },
  {
   "cell_type": "markdown",
   "metadata": {},
   "source": [
    "$$\n",
    "\\begin{align}\n",
    "    \\ln q_i &= \\ln Z_i + V(\\vartheta_i) = \\ln Z_i + \\left\\langle L(\\vartheta)\\right\\rangle_{q_j}\\\\\n",
    "    \\end{align}.\n",
    "$$"
   ]
  },
  {
   "cell_type": "markdown",
   "metadata": {},
   "source": [
    "where $V_i=V(\\vartheta_i)$ is known as the _variational energy_ and speask to the joint probability of data and parameters, $L$, expected under its Markov blanket, $q_j$."
   ]
  },
  {
   "cell_type": "markdown",
   "metadata": {},
   "source": [
    "<a id=\"laplace approximation\"></a>\n",
    "### § Laplace approximation"
   ]
  },
  {
   "cell_type": "markdown",
   "metadata": {},
   "source": [
    "Under Laplace assumption, let us suppose that"
   ]
  },
  {
   "cell_type": "markdown",
   "metadata": {},
   "source": [
    "$$\n",
    "\\begin{eqnarray*}\n",
    "    q_i &=& N(\\vartheta_i| \\mu_i, \\Sigma_i)\\\\\n",
    "    \\end{eqnarray*}\n",
    "$$"
   ]
  },
  {
   "cell_type": "markdown",
   "metadata": {},
   "source": [
    "are Gaussian, where"
   ]
  },
  {
   "cell_type": "markdown",
   "metadata": {},
   "source": [
    "$$\n",
    "\\begin{eqnarray*}\n",
    "    \\Sigma_i &=& \\left\\langle (\\vartheta_i - \\mu_i)(\\vartheta_i - \\mu_i)^T\\right\\rangle\n",
    "    \\end{eqnarray*}\n",
    "$$"
   ]
  },
  {
   "cell_type": "markdown",
   "metadata": {},
   "source": [
    "is the covariance matrix."
   ]
  },
  {
   "cell_type": "markdown",
   "metadata": {},
   "source": [
    "Following the factorisation, we write\n",
    "\n",
    "$$\n",
    "\\begin{eqnarray*}\n",
    "    F &=& U - H\\\\\n",
    "    U &=& \\left\\langle L(\\vartheta)\\right\\rangle_{q_i q_j}\\\\\n",
    "    H &=& \\left\\langle\\ln q_i\\right\\rangle_{q_i} + \\left\\langle\\ln q_j\\right\\rangle_{q_j}\n",
    "    \\end{eqnarray*}\n",
    "$$"
   ]
  },
  {
   "cell_type": "markdown",
   "metadata": {},
   "source": [
    "The (neg-)entropies are (see note [A.1](#appendix1))\n",
    "\n",
    "$$\n",
    "\\begin{eqnarray*}\n",
    "    H &=& -\\frac{D_i}{2}(1 + \\ln 2\\pi) - \n",
    "        \\frac 1 2\\ln|\\Sigma_i| - \\frac{D_j}{2}(1 + \\ln 2\\pi) -\\frac 1 2 \\ln|\\Sigma_j|\\\\\n",
    "    &=& -\\frac{D_i}{2}\\ln 2\\pi e -\\frac 1 2\\ln|\\Sigma_i| - \\frac{D_j}{2}\\ln 2\\pi e -\\frac 1 2\\ln|\\Sigma_j|\n",
    "    \\end{eqnarray*}\n",
    "$$"
   ]
  },
  {
   "cell_type": "markdown",
   "metadata": {},
   "source": [
    "Further, with second-order truncation (dropping bilinear terms)"
   ]
  },
  {
   "cell_type": "markdown",
   "metadata": {},
   "source": [
    "$$\n",
    "\\begin{eqnarray*}\n",
    "    L(\\vartheta) &\\approx&\n",
    "        L(\\mu) + \n",
    "        (\\vartheta_i - \\mu_i)^T L^{(\\vartheta_i)} + \n",
    "        (\\vartheta_j - \\mu_j)^T L^{(\\vartheta_j)} \\\\\n",
    "    && +\n",
    "        \\frac 1 2\\left[\n",
    "        (\\vartheta_i - \\mu_i)^T L^{(\\vartheta_i\\vartheta_i)} (\\vartheta_i - \\mu_i) + \n",
    "        (\\vartheta_j - \\mu_j)^T L^{(\\vartheta_j\\vartheta_j)} (\\vartheta_j - \\mu_j)\n",
    "        \\right]\\\\\n",
    "    &=& L(\\mu) + \n",
    "        (\\vartheta_i - \\mu_i)^T L^{(\\vartheta_i)} + \n",
    "        (\\vartheta_j - \\mu_j)^T L^{(\\vartheta_j)} \\\\\n",
    "    && +\n",
    "        \\frac 1 2\\left\\{\n",
    "        \\tr\\left[(\\vartheta_i - \\mu_i) (\\vartheta_i - \\mu_i)^T L^{(\\vartheta_i\\vartheta_i)}\\right] +\n",
    "        \\tr\\left[(\\vartheta_j - \\mu_j) (\\vartheta_j - \\mu_j)^T L^{(\\vartheta_j\\vartheta_j)}\\right]\n",
    "        \\right\\}\n",
    "        \\end{eqnarray*}\n",
    "$$"
   ]
  },
  {
   "cell_type": "markdown",
   "metadata": {},
   "source": [
    "where $L^{(\\vartheta_i\\vartheta_i)}$ denotes $\\partial^2 L/\\partial\\vartheta_i\\partial \\vartheta_i$ evaluated at its mode $\\mu$,"
   ]
  },
  {
   "cell_type": "markdown",
   "metadata": {},
   "source": [
    "and write"
   ]
  },
  {
   "cell_type": "markdown",
   "metadata": {},
   "source": [
    "$$\n",
    "\\begin{eqnarray*}\n",
    "    U &=& L(\\mu) +\n",
    "        \\frac 1 2 \n",
    "        \\left\\{\n",
    "        \\tr\\left[\n",
    "        \\langle (\\vartheta_i - \\mu_i) (\\vartheta_i - \\mu_i)^T\\rangle L^{(\\vartheta_i \\vartheta_i)}\n",
    "        \\right] +\n",
    "        \\tr\\left[\n",
    "        \\langle (\\vartheta_j - \\mu_j) (\\vartheta_j - \\mu_j)^T\\rangle L^{(\\vartheta_j \\vartheta_j)}\n",
    "        \\right]\n",
    "        \\right\\}\\\\\n",
    "    &=& L(\\mu) + \\frac 1 2 \\left\\{\n",
    "        \\tr\\left[\\Sigma_i L^{(\\vartheta_i \\vartheta_i)}\\right] + \n",
    "        \\tr\\left[\\Sigma_j L^{(\\vartheta_j \\vartheta_j)}\\right]\n",
    "        \\right\\}\n",
    "    \\end{eqnarray*}\n",
    "$$"
   ]
  },
  {
   "cell_type": "markdown",
   "metadata": {},
   "source": [
    "Here, one uses the property: $a^TCa = \\tr[aa^TC]$."
   ]
  },
  {
   "cell_type": "markdown",
   "metadata": {},
   "source": [
    "Thus, the free-energy becomes\n",
    "\n",
    "$$\n",
    "\\DeclareMathOperator{\\tr}{tr}\n",
    "F = L(\\mu) + \\frac 1 2\\left[\n",
    "    \\tr\\left(\\Sigma_i L^{(\\vartheta_i \\vartheta_i)}\\right) + \n",
    "    \\tr\\left(\\Sigma_j L^{(\\vartheta_j \\vartheta_j)}\\right)\n",
    "    \\right] +\n",
    "    \\frac{D_i}{2}\\ln 2\\pi e +\n",
    "    \\frac 1 2\\ln|\\Sigma_i| + \n",
    "    \\frac{D_j}{2}\\ln 2\\pi e +\\frac 1 2\\ln|\\Sigma_j|\n",
    "$$"
   ]
  },
  {
   "cell_type": "markdown",
   "metadata": {},
   "source": [
    "Solve for $\\Sigma_i$ (or just by examination through completing the square)\n",
    "\n",
    "$$\n",
    "\\begin{eqnarray*}\n",
    "    \\delta F/\\delta\\Sigma_i &=& 0 =\n",
    "        \\frac 1 2 {L^{(\\vartheta_i \\vartheta_i)}}^T + \\frac 1 2 \\Sigma_i^{-1}\\\\\n",
    "        \\Sigma_i^{-1} &=& - {L^{(\\vartheta_i \\vartheta_i)}}^T = - L^{(\\vartheta_i \\vartheta_i)}\n",
    "    \\end{eqnarray*}\n",
    "$$"
   ]
  },
  {
   "cell_type": "markdown",
   "metadata": {},
   "source": [
    "<br>\n",
    "Note that the same procedure can be applied to individual variational density to give\n",
    "\n",
    "$$\n",
    "\\begin{eqnarray*}\n",
    "    \\ln q(\\vartheta_i) &\\approx& V(\\vartheta_i)\\\\\n",
    "    &=& \\left\\langle L(\\vartheta_i, \\mu_j) + \n",
    "        \\frac 1 2 \n",
    "        (\\vartheta_j - \\mu_j)^T \n",
    "        L^{(\\vartheta_j \\vartheta_j)}(\\vartheta_i, \\mu_j)\n",
    "        (\\vartheta_i - \\mu_j)\n",
    "        \\right\\rangle_{q_j}\\\\\n",
    "    V(\\vartheta_i, \\mu_j) &=& L(\\vartheta_i, \\mu_j) +\n",
    "        \\frac 1 2 \\tr\\left(\\Sigma_j L^{(\\vartheta_j \\vartheta_j)}\\right)\n",
    "    \\end{eqnarray*}\n",
    "$$\n",
    "\n",
    "This is useful when optimse for variational mode $\\mu_i$.\n",
    "<br>"
   ]
  },
  {
   "cell_type": "markdown",
   "metadata": {},
   "source": [
    "<a id=\"optimisation\"></a>\n",
    "### § Optimsation"
   ]
  },
  {
   "cell_type": "markdown",
   "metadata": {},
   "source": [
    "To optimise the sufficient statistics for the variational density, $q$, under Laplace approximation, we only need to find their mean and covariance, which are illustrated in the preceding sections\n",
    "\n",
    "$$\n",
    "\\begin{eqnarray*}\n",
    "    \\mu_i &=& \\underset{\\vartheta_i}{\\operatorname{argmax}} V(\\vartheta_i)\\\\\n",
    "    \\Sigma_i &=& - L(\\mu)^{(\\vartheta_j \\vartheta_j)^{-1}}\n",
    "    \\end{eqnarray*}\n",
    "$$\n",
    "\n",
    "It is worth noting that the covariance is a function of its variational mode and does not depend on the mean-field approximation."
   ]
  },
  {
   "cell_type": "markdown",
   "metadata": {},
   "source": [
    "* Optimise for $\\mu_i$"
   ]
  },
  {
   "cell_type": "markdown",
   "metadata": {},
   "source": [
    "The update scheme should read \n",
    "$$\n",
    "\\DeclareMathOperator{\\tr}{tr}\n",
    "\\begin{eqnarray*}\n",
    "    V(\\mu_i)^{(\\vartheta_{i:k})} &=& L(\\mu)^{(\\vartheta_{i:k})} +\n",
    "        \\frac 1 2 \\tr\\left(\\Sigma_j L^{(\\vartheta_j \\vartheta_j \\vartheta_{i:k})}\\right)\\\\\n",
    "    V(\\mu_i)^{(\\vartheta_{i:k}\\vartheta_{i:l})} &=&\n",
    "        L(\\mu)^{(\\vartheta_{i:k}\\vartheta_{i:l})} +\n",
    "        \\frac 1 2 \\tr\\left(\\Sigma_j L^{(\\vartheta_{j}\\vartheta_{j}\\vartheta_{i:k}\\vartheta_{i:l})}\\right)\\\\\n",
    "    \\Delta\\mu_i &=& (\\exp(tJ) - I)J^{-1}V(\\mu_i)^{(\\vartheta_i)}\\\\\n",
    "    &\\approx& -V(\\mu_i)^{(\\vartheta_{i}\\vartheta_{i})^{-1}} V(\\mu_i)^{(\\vartheta_{i})}, \\;\\;\\;\\hbox{if }t \\to \\infty\n",
    "    \\end{eqnarray*}\n",
    "$$\n",
    "\n",
    "where superscript $(\\vartheta_{i:k})$ denotes partial derivative to the $k$-th element of $\\vartheta_i$. For detailed derivation see _[linearisation](#appendix3)_."
   ]
  },
  {
   "cell_type": "markdown",
   "metadata": {},
   "source": [
    "<a id=\"implementational consideration\"></a>\n",
    "### § Implementational consideration"
   ]
  },
  {
   "cell_type": "markdown",
   "metadata": {},
   "source": [
    "Suppose one has parameter that factorises into $\\vartheta = \\{\\theta, \\varphi\\}$\n",
    "\n",
    "and let $\\theta=(\\theta_1, \\theta_2)^T$ and $\\varphi = (\\varphi_1, \\varphi_2)^T$"
   ]
  },
  {
   "cell_type": "markdown",
   "metadata": {},
   "source": [
    "$$\n",
    "\\DeclareMathOperator{\\tr}{tr}\n",
    "\\begin{eqnarray*}\n",
    "    V^{(\\varphi\\varphi)} &=& \\left(\n",
    "        \\begin{array}{cc}\n",
    "            V^{(\\varphi_1\\varphi_1)} &\n",
    "            V^{(\\varphi_1\\varphi_2)} \\\\\n",
    "            V^{(\\varphi_2\\varphi_1)} &\n",
    "            V^{(\\varphi_2\\varphi_2)} \n",
    "            \\end{array}\\right)\\\\\n",
    "    &=& \\left(\n",
    "        \\begin{array}{cc}\n",
    "            L^{(\\varphi_1\\varphi_1)} &\n",
    "            L^{(\\varphi_1\\varphi_2)} \\\\\n",
    "            L^{(\\varphi_2\\varphi_1)} &\n",
    "            L^{(\\varphi_2\\varphi_2)}\n",
    "            \\end{array}\\right) +\n",
    "        \\frac{1}{2}\\left(\n",
    "        \\begin{array}{cc}\n",
    "            \\tr\\left[\\Sigma_\\theta L^{(\\theta\\theta\\varphi_1\\varphi_1)}\\right] &\n",
    "            \\tr\\left[\\Sigma_\\theta L^{(\\theta\\theta\\varphi_1\\varphi_2)}\\right] \\\\\n",
    "            \\tr\\left[\\Sigma_\\theta L^{(\\theta\\theta\\varphi_2\\varphi_1)}\\right] &\n",
    "            \\tr\\left[\\Sigma_\\theta L^{(\\theta\\theta\\varphi_2\\varphi_2)}\\right]\n",
    "            \\end{array}\\right)\n",
    "    \\end{eqnarray*}\n",
    "$$"
   ]
  },
  {
   "cell_type": "markdown",
   "metadata": {},
   "source": [
    "Unpack $L^{(\\theta\\theta\\varphi_1\\varphi_1)}$ in the second term"
   ]
  },
  {
   "cell_type": "markdown",
   "metadata": {},
   "source": [
    "$$\n",
    "\\left(\\begin{array}{cc}\n",
    "    L^{(\\theta_1\\theta_1\\varphi_1\\varphi_1)} &\n",
    "    L^{(\\theta_1\\theta_2\\varphi_1\\varphi_1)} \\\\\n",
    "    L^{(\\theta_2\\theta_1\\varphi_1\\varphi_1)} &\n",
    "    L^{(\\theta_2\\theta_2\\varphi_1\\varphi_1)}\n",
    "    \\end{array}\\right)\n",
    "$$"
   ]
  },
  {
   "cell_type": "markdown",
   "metadata": {},
   "source": [
    "It is straightforward to show that, for instance, \n",
    "$\\tr\\left[\\Sigma_\\theta L^{(\\theta\\theta\\varphi_1\\varphi_2)}\\right]$ \n",
    "is equivalent to $\\Sigma^T\\!\\!\\!:_\\theta^T L\\!\\!:^{(\\theta\\theta)(\\varphi_1\\varphi_2)}$, \n",
    "where $\\Sigma\\!\\!:$ denotes matrix vectorisation, \n",
    "and $\\Sigma^T\\!\\!\\!:$ stands for vectorisation along columns. \n",
    "\n",
    "Thus, $L\\!\\!:^{(\\theta\\theta)(\\varphi\\varphi)}$ becomes a matrix that reads"
   ]
  },
  {
   "cell_type": "markdown",
   "metadata": {},
   "source": [
    "\\begin{align}\n",
    "    \\left(\\begin{array}{cc}\n",
    "        L\\!\\!:^{(\\theta\\theta)(\\varphi_1\\varphi_1)} &\n",
    "        L\\!\\!:^{(\\theta\\theta)(\\varphi_1\\varphi_2)} \\\\\n",
    "        L\\!\\!:^{(\\theta\\theta)(\\varphi_2\\varphi_1)} &\n",
    "        L\\!\\!:^{(\\theta\\theta)(\\varphi_2\\varphi_2)}\n",
    "        \\end{array}\n",
    "        \\right) = \n",
    "    \\left(\\begin{array}{cc}\n",
    "        L^{(\\theta_1\\theta_1\\varphi_1\\varphi_1)} &\n",
    "        L^{(\\theta_1\\theta_1\\varphi_1\\varphi_2)} \\\\\n",
    "        L^{(\\theta_2\\theta_1\\varphi_1\\varphi_1)} &\n",
    "        L^{(\\theta_2\\theta_1\\varphi_1\\varphi_2)} \\\\\n",
    "        L^{(\\theta_1\\theta_2\\varphi_1\\varphi_1)} &\n",
    "        L^{(\\theta_1\\theta_2\\varphi_1\\varphi_2)} \\\\\n",
    "        L^{(\\theta_2\\theta_2\\varphi_1\\varphi_1)} &\n",
    "        L^{(\\theta_2\\theta_2\\varphi_1\\varphi_2)} \\\\\n",
    "        L^{(\\theta_1\\theta_1\\varphi_2\\varphi_1)} &\n",
    "        L^{(\\theta_1\\theta_1\\varphi_2\\varphi_2)} \\\\\n",
    "        L^{(\\theta_2\\theta_1\\varphi_2\\varphi_1)} &\n",
    "        L^{(\\theta_2\\theta_1\\varphi_2\\varphi_2)} \\\\\n",
    "        L^{(\\theta_1\\theta_2\\varphi_2\\varphi_1)} &\n",
    "        L^{(\\theta_1\\theta_2\\varphi_2\\varphi_2)} \\\\\n",
    "        L^{(\\theta_2\\theta_2\\varphi_2\\varphi_1)} &\n",
    "        L^{(\\theta_2\\theta_2\\varphi_2\\varphi_2)} \\\\\n",
    "        \\end{array}\n",
    "        \\right)\n",
    "    \\end{align}"
   ]
  },
  {
   "cell_type": "markdown",
   "metadata": {},
   "source": [
    "and one accordingly has"
   ]
  },
  {
   "cell_type": "markdown",
   "metadata": {},
   "source": [
    "$$\n",
    "V^{(\\varphi\\varphi)} = L^{(\\varphi\\varphi)} + \\frac 1 2\n",
    "    \\left( I\\otimes \\Sigma^T\\!\\!\\!:_\\theta\\right)^T\n",
    "    L\\!\\!:^{(\\theta\\theta)(\\varphi\\varphi)}\n",
    "$$"
   ]
  },
  {
   "cell_type": "markdown",
   "metadata": {},
   "source": [
    "The same procedure can be repeated for $V^{(\\theta\\theta)}, V^{(\\varphi)}$ and $V^{(\\theta)}$ to give"
   ]
  },
  {
   "cell_type": "markdown",
   "metadata": {},
   "source": [
    "$$\n",
    "\\begin{eqnarray*}\n",
    "    V^{(\\theta\\theta)} &= L^{(\\theta\\theta)}& +\n",
    "        \\frac 1 2\n",
    "        \\left( I\\otimes \\Sigma^T\\!\\!\\!:_\\varphi\\right)^T\n",
    "        L\\!\\!:^{(\\varphi\\varphi)(\\theta\\theta)}\\\\\n",
    "    V^{(\\varphi)} &= L^{(\\varphi)}& +\n",
    "        \\frac 1 2\n",
    "        \\left( I\\otimes \\Sigma^T\\!\\!\\!:_\\theta\\right)^T\n",
    "        L\\!\\!:^{(\\theta\\theta)(\\varphi)}\\\\\n",
    "    V^{(\\theta)} &= L^{(\\theta)}& +\n",
    "        \\frac 1 2\n",
    "        \\left( I\\otimes \\Sigma^T\\!\\!\\!:_\\varphi\\right)^T\n",
    "        L\\!\\!:^{(\\varphi\\varphi)(\\theta)}\\\\\n",
    "    \\end{eqnarray*}\n",
    "$$"
   ]
  },
  {
   "cell_type": "markdown",
   "metadata": {},
   "source": [
    "<a id=\"example1\"></a>\n",
    "### § Example 1"
   ]
  },
  {
   "cell_type": "markdown",
   "metadata": {},
   "source": [
    "In this example we will attempt to optimise the following objective function using the updating scheme above.\n",
    "\n",
    "$\n",
    "L(u, v) = -\\frac{1}{16} (u - \\frac{1}{8}v^2)^2 - \\frac{1}{128} (v^2 - 2)^2\n",
    "$"
   ]
  },
  {
   "cell_type": "code",
   "execution_count": 1,
   "metadata": {
    "collapsed": false
   },
   "outputs": [],
   "source": [
    "import numpy as np\n",
    "import scipy.stats as stat\n",
    "import matplotlib.pyplot as plt\n",
    "from IPython import display\n",
    "import time\n",
    "%matplotlib inline "
   ]
  },
  {
   "cell_type": "code",
   "execution_count": 2,
   "metadata": {
    "collapsed": false
   },
   "outputs": [
    {
     "name": "stderr",
     "output_type": "stream",
     "text": [
      "Using gpu device 0: Tesla K40c (CNMeM is enabled with initial size: 90.0% of memory, cuDNN 4007)\n"
     ]
    },
    {
     "name": "stdout",
     "output_type": "stream",
     "text": [
      "Theano version:  0.8.2\n"
     ]
    }
   ],
   "source": [
    "import theano\n",
    "import theano.tensor as T\n",
    "\n",
    "print(\"Theano version: \", theano.__version__)"
   ]
  },
  {
   "cell_type": "code",
   "execution_count": 3,
   "metadata": {
    "collapsed": true
   },
   "outputs": [],
   "source": [
    "c0 = [1. / 16, 1. / 8, 1. / 128]\n",
    "u, v = T.vectors(2)\n",
    "Su, Sv = T.matrices(2)  # this is not necessary, only for the purpose of tutorial\n",
    "\n",
    "L = (-c0[0] * (u - c0[1] * v ** 2) ** 2 - c0[2] * (v ** 2 - 2) ** 2)[0]"
   ]
  },
  {
   "cell_type": "code",
   "execution_count": 4,
   "metadata": {
    "collapsed": false
   },
   "outputs": [],
   "source": [
    "fSu, fSv = Su.flatten(1), Sv.flatten(1)\n",
    "\n",
    "Lu = T.jacobian(L, u)\n",
    "Lv = T.jacobian(L, v)\n",
    "\n",
    "Luu = T.hessian(L, u).flatten(1)\n",
    "Lvv = T.hessian(L, v).flatten(1)\n",
    "\n",
    "Luuv = T.join(0, [T.jacobian(Luu[i], v) for i in range(1)])\n",
    "Lvvu = T.join(0, [T.jacobian(Lvv[i], u) for i in range(1)])\n",
    "\n",
    "Luuvv = T.join(0, [T.hessian(Luu[i], v).flatten(1) for i in range(1)])\n",
    "Lvvuu = T.join(0, [T.hessian(Lvv[i], u).flatten(1) for i in range(1)])\n",
    "\n",
    "Uu = T.join(0, [T.sum(fSv * Lvvu[:, i]) for i in range(1)])\n",
    "Uv = T.join(0, [T.sum(fSu * Luuv[:, i]) for i in range(1)])\n",
    "\n",
    "Uuu = T.join(0, [T.sum(fSv * Lvvuu[:, i]) for i in range(1)])\n",
    "Uvv = T.join(0, [T.sum(fSu * Luuvv[:, i]) for i in range(1)])\n",
    "\n",
    "Vu = Lu + 0.5 * Uu\n",
    "Vv = Lv + 0.5 * Uv\n",
    "\n",
    "Vuu = (Luu + 0.5 * Uuu).reshape((1, 1))\n",
    "Vvv = (Lvv + 0.5 * Uvv).reshape((1, 1))\n",
    "\n",
    "F = L + 0.5 * (Su.dot(Luu) + Sv.dot(Lvv)) + T.log(T.nlinalg.det(Su)) + T.log(T.nlinalg.det(Sv))\n",
    "\n",
    "\n",
    "du = -(T.nlinalg.pinv(Vuu).dot(Vu))\n",
    "dv = -(T.nlinalg.pinv(Vvv).dot(Vv))\n",
    "\n",
    "# alternatively\n",
    "# du = (T.slinalg.expm(Vuu) - 1).dot(T.nlinalg.pinv(Vuu).dot(Vu))\n",
    "# dv = (T.slinalg.expm(Vvv) - 1).dot(T.nlinalg.pinv(Vvv).dot(Vv))\n",
    "\n",
    "Cu = - T.nlinalg.pinv(Luu.reshape((1, 1)))\n",
    "Cv = - T.nlinalg.pinv(Lvv.reshape((1, 1)))"
   ]
  },
  {
   "cell_type": "code",
   "execution_count": 5,
   "metadata": {
    "collapsed": false
   },
   "outputs": [],
   "source": [
    "update = theano.function([u, v, Su, Sv], [du, dv, Cu, Cv], allow_input_downcast=True)\n",
    "elb = theano.function([u, v, Su, Sv], F, allow_input_downcast=True)"
   ]
  },
  {
   "cell_type": "code",
   "execution_count": 6,
   "metadata": {
    "collapsed": true
   },
   "outputs": [],
   "source": [
    "tu, tv = 1., 1.  # delta_u, delta_v\n",
    "\n",
    "u0, v0, Su0, Sv0 = np.array([1.]), np.array([1.]), np.array([[1.]]), np.array([[1.]])\n",
    "tCu, tCv = Su0, Sv0\n",
    "tol = 0.001"
   ]
  },
  {
   "cell_type": "code",
   "execution_count": 7,
   "metadata": {
    "collapsed": false
   },
   "outputs": [
    {
     "name": "stdout",
     "output_type": "stream",
     "text": [
      "Converged.\n",
      "u:  [ 0.99525321] v:  [ 1.63549357] Cu:  [[ 8.]] Cv:  [[ 5.28174448]]\n"
     ]
    },
    {
     "data": {
      "image/png": "[encoded data removed]",
      "text/plain": [
       "<matplotlib.figure.Figure at 0x7fd0f9cb0160>"
      ]
     },
     "metadata": {},
     "output_type": "display_data"
    }
   ],
   "source": [
    "plt.figure()\n",
    "plt.hold(True)\n",
    "\n",
    "step = 0\n",
    "for maxM in range(256):\n",
    "    plt.subplot(211)\n",
    "    plt.plot(v0, u0, 'r*', alpha=1)\n",
    "    for maxN in range(256):\n",
    "        tu, tv, tCu, tCv = update(u0, v0, Su0, Sv0)\n",
    "        u0 += tu\n",
    "        v0 += tv\n",
    "        \n",
    "        plt.subplot(211)\n",
    "        plt.plot(v0, u0, 'b.', alpha=.5);\n",
    "        plt.subplot(212)\n",
    "        plt.plot(step, elb(u0, v0, Su0, Sv0), 'r+');\n",
    "        display.display(plt.gcf())\n",
    "        display.clear_output(wait=True)\n",
    "        time.sleep(0.)\n",
    "        step += 1\n",
    "        if (tu ** 2) < tol and (tv ** 2) < tol: break\n",
    "    if np.sum((Su0 - tCu) ** 2) < tol and np.sum((Sv0 - tCv) ** 2) < tol: break\n",
    "    Su0, Sv0 = tCu, tCv\n",
    "print(\"Converged.\")\n",
    "print(\"u: \", u0, \"v: \", v0, \"Cu: \", Su0, \"Cv: \", Sv0)"
   ]
  },
  {
   "cell_type": "markdown",
   "metadata": {},
   "source": [
    "<a id=\"example2\"></a>\n",
    "### § Example 2"
   ]
  },
  {
   "cell_type": "markdown",
   "metadata": {},
   "source": [
    "Instead of writing multiple lines of code, in this example we create a function `vilaps()` which allows us to reuse the updating scheme given different model/objective function. \n",
    "\n",
    "This function uses Theano to generate a compiled updating scheme, with optional observation `y` and hyperprior `hp` arguments."
   ]
  },
  {
   "cell_type": "code",
   "execution_count": 8,
   "metadata": {
    "collapsed": false
   },
   "outputs": [
    {
     "name": "stdout",
     "output_type": "stream",
     "text": [
      "Theano version:  0.8.2\n"
     ]
    }
   ],
   "source": [
    "import scipy.stats as stat\n",
    "import numpy as np\n",
    "import theano\n",
    "import functools\n",
    "import theano.tensor as T\n",
    "\n",
    "print(\"Theano version: \", theano.__version__)"
   ]
  },
  {
   "cell_type": "code",
   "execution_count": 9,
   "metadata": {
    "collapsed": false
   },
   "outputs": [],
   "source": [
    "def vilaps(L, b, bdims, y=None, hp=None):\n",
    "    \n",
    "    def _jac_(*args, **kwargs):\n",
    "        return T.jacobian(*args, disconnected_inputs='warn', **kwargs)\n",
    "    \n",
    "    def _hes_(*args, **kwargs):\n",
    "        return T.hessian(*args, disconnected_inputs='warn', **kwargs)\n",
    "    \n",
    "    assert len(b) == len(bdims)\n",
    "    \n",
    "    if y is None:\n",
    "        y = []\n",
    "    else:\n",
    "        y = [y]\n",
    "       \n",
    "    if hp is None:\n",
    "        hp = []\n",
    "    \n",
    "    mfp = len(bdims)\n",
    "    \n",
    "    Li  = [_jac_(L, b[i]) for i in range(mfp)]\n",
    "    Lii = [_hes_(L, b[i]).flatten(1) for i in range(mfp)]\n",
    "       \n",
    "    Liij  = [[T.join(0, [_jac_(Lii[i][k], b[j]) for k in range(bdims[i] ** 2)])\n",
    "              for j in range(mfp)]\n",
    "             for i in range(mfp)]\n",
    "    Liijj = [[T.join(0, [_hes_(Lii[i][k], b[j]).flatten(1) for k in range(bdims[i] ** 2)])\n",
    "              for j in range(mfp)]\n",
    "             for i in range(mfp)]\n",
    "    \n",
    "    Ci  = [- T.nlinalg.pinv(Lii[i].reshape((bdims[i], bdims[i]))) for i in range(mfp)]\n",
    "    fCi = [Ci[i].flatten(1) for i in range(mfp)]\n",
    "    \n",
    "    Uj = [[T.join(0, [T.sum(fCi[j] * Liij[j][i][:, k])  for k in range(bdims[i])])\n",
    "           for j in range(mfp)\n",
    "           if j != i]\n",
    "          for i in range(mfp)]\n",
    "    \n",
    "    Ujj = [[T.join(0, [T.sum(fCi[j] * Liijj[j][i][:, k]) for k in range(bdims[i] ** 2)])\n",
    "            for j in range(mfp)\n",
    "            if j != i]\n",
    "           for i in range(mfp)]\n",
    "    \n",
    "    Vi  = [Li[i] + 0.5 * functools.reduce(lambda x, y: x + y, Uj[i]) for i in range(mfp)]\n",
    "    Vii = [(Lii[i] + 0.5 * functools.reduce(lambda x, y: x + y, Ujj[i])).reshape((bdims[i], bdims[i]))\n",
    "           for i in range(mfp)]\n",
    "    \n",
    "    bGN = [-T.nlinalg.pinv(Vii[i]).dot(Vi[i]) for i in range(mfp)]\n",
    "    bLM = [(T.slinalg.expm(Vii[i]) - 1).dot(T.nlinalg.pinv(Vii[i])).dot(Vi[i]) for i in range(mfp)]\n",
    "\n",
    "    F = L\n",
    "    for i in range(mfp):\n",
    "        F += 0.5 * T.sum(fCi[i] * Lii[i] + T.log(T.nlinalg.det(Ci[i])))\n",
    "        \n",
    "    viupdate = theano.function(\n",
    "        b + hp + y,\n",
    "        bGN + bLM + Ci + [F],\n",
    "        allow_input_downcast=True)\n",
    "    \n",
    "    return viupdate"
   ]
  },
  {
   "cell_type": "markdown",
   "metadata": {},
   "source": [
    "This time we try to invert the following model that generates our observation $y$\n",
    "\n",
    "$\n",
    "\\begin{align}\n",
    "    p(y|\\mu, \\tau) &= N(y|\\mu, \\tau^{-1})\\\\\n",
    "    p(\\mu|\\tau) &= N(\\mu|\\mu_0, (\\lambda_0\\tau)^{-1})\\\\\n",
    "    p(\\tau) &= \\hbox{Ga}(\\tau|a_0, b_0)\n",
    "    \\end{align}\n",
    "$\n",
    "\n",
    "where we assume mean-field approximation\n",
    "\n",
    "$\n",
    "q(\\mu,\\tau) = q(\\mu)q(\\tau)\n",
    "$\n",
    "\n",
    "and Laplace assumption."
   ]
  },
  {
   "cell_type": "code",
   "execution_count": 10,
   "metadata": {
    "collapsed": false
   },
   "outputs": [],
   "source": [
    "hv = [9., 3.]\n",
    "hu = [5., 2.]\n",
    "rngv = stat.gamma(a=hv[0], scale=hv[1])\n",
    "N = 1000\n",
    "\n",
    "Y = np.zeros((N, 1))\n",
    "U = np.zeros(N)\n",
    "V = np.zeros(N)\n",
    "\n",
    "for s in range(N):\n",
    "    v = rngv.rvs()\n",
    "    rngu = stat.norm(loc=hu[0], scale=np.sqrt(1 / (hu[1] * v)))\n",
    "    u = rngu.rvs()\n",
    "    Y[s, :] = stat.norm(loc=u, scale=1 / v).rvs()\n",
    "    U[s] = u\n",
    "    V[s] = v\n"
   ]
  },
  {
   "cell_type": "code",
   "execution_count": 11,
   "metadata": {
    "collapsed": false
   },
   "outputs": [],
   "source": [
    "y = T.matrix()\n",
    "u, v, pu, pv = T.vectors(4)\n",
    "\n",
    "L1 = T.sum(-0.5 * (y - u).dot(T.nlinalg.matrix_inverse(T.diag(v))) * (y - u)) -\\\n",
    "    0.5 * ((u - pu[0]).dot(T.nlinalg.matrix_inverse(T.diag(pu[1] * v)))).dot(u - pu[0]) -\\\n",
    "    T.gammaln(pv[0]) * pv[1] ** pv[0] + (pv[0] - 1) * T.log(v) - v / pv[1]\n",
    "L1 = T.sum(L1)"
   ]
  },
  {
   "cell_type": "code",
   "execution_count": 12,
   "metadata": {
    "collapsed": false
   },
   "outputs": [
    {
     "name": "stderr",
     "output_type": "stream",
     "text": [
      "/home/yen/env/p34/lib/python3.4/site-packages/theano/gradient.py:545: UserWarning: grad method was asked to compute the gradient with respect to a variable that is not part of the computational graph of the cost, or is used only by a non-differentiable operator: <TensorType(float32, vector)>\n",
      "  handle_disconnected(elem)\n",
      "/home/yen/env/p34/lib/python3.4/site-packages/theano/gradient.py:571: UserWarning: grad method was asked to compute the gradient with respect to a variable that is not part of the computational graph of the cost, or is used only by a non-differentiable operator: <DisconnectedType>\n",
      "  handle_disconnected(rval[i])\n"
     ]
    }
   ],
   "source": [
    "b = [u, v]\n",
    "hp = [pu, pv]\n",
    "bdims = [1, 1]\n",
    "\n",
    "# The line below generates an warning (or raise an DisconnectedInput exception if the disconnected_input flag\n",
    "# is otherwise not set for T.jacobian and T.hessian). \n",
    "# This happens when 1) AD takes a derivative of a constant; or 2) you ask for jacobian/hessian over some \n",
    "# subtensor of your symbols. When asking for a subtensor, theano creates a new symbol which is not included \n",
    "# in your computation graph, this is when theano complains about DisconnectedInput.\n",
    "# Note that methods such as flatten also creates new symbol.\n",
    "# \n",
    "# This illegal:\n",
    "#    u = T.vector()\n",
    "#    L = T.sum(u)\n",
    "#    Lu = T.jacobian(L, u[0])\n",
    "# This is legal:\n",
    "#    u = T.vector()\n",
    "#    L = u[0] * u[1]\n",
    "#    Lu = T.jacobian(L, u)\n",
    "\n",
    "viu = vilaps(L1, b, bdims, y, hp);"
   ]
  },
  {
   "cell_type": "code",
   "execution_count": 13,
   "metadata": {
    "collapsed": false
   },
   "outputs": [
    {
     "data": {
      "image/png": "[encoded data removed]",
      "text/plain": [
       "<matplotlib.figure.Figure at 0x7fd0c6aaa048>"
      ]
     },
     "metadata": {},
     "output_type": "display_data"
    }
   ],
   "source": [
    "u0, v0 = np.array([2.]), np.array([5.])\n",
    "tol = 0.0001\n",
    "\n",
    "plt.figure()\n",
    "for step in range(256):\n",
    "    gnu, gnv, lmu, lmv, Cu, Cv, FE = viu(u0, v0, hu, hv, Y)\n",
    "    tu, tv = gnu, gnv\n",
    "    u0 += tu\n",
    "    v0 += tv\n",
    "    plt.subplot(211)\n",
    "    plt.plot(u0, v0, 'bo', alpha=.5)\n",
    "    plt.subplot(212)\n",
    "    plt.plot(step, FE, 'r+')\n",
    "    display.display(plt.gcf())\n",
    "    display.clear_output(wait=True)\n",
    "    if np.square(tu) < tol and np.square(tv) < tol: break"
   ]
  },
  {
   "cell_type": "code",
   "execution_count": 14,
   "metadata": {
    "collapsed": false
   },
   "outputs": [
    {
     "data": {
      "image/png": "[encoded data removed]",
      "text/plain": [
       "<matplotlib.figure.Figure at 0x7fd0c690cbe0>"
      ]
     },
     "metadata": {},
     "output_type": "display_data"
    }
   ],
   "source": [
    "plt.figure(figsize=(16, 5))\n",
    "plt.subplot(121)\n",
    "plt.plot(U, V, 'b.', alpha=.1);\n",
    "plt.plot(hu[0], np.prod(hv), 'r*', markersize=12, alpha=.7);\n",
    "plt.plot(u0, v0, 'y*', markersize=12, alpha=.7);\n",
    "plt.grid(True)\n",
    "plt.subplot(122)\n",
    "plt.plot(U, V, 'b.', alpha=.1);\n",
    "plt.plot(hu[0], np.prod(hv), 'r*', markersize=12, alpha=.7);\n",
    "plt.plot(u0, v0, 'y*', markersize=12, alpha=.7);\n",
    "plt.grid(True)\n",
    "plt.xlim([4.8, 5.2])\n",
    "plt.ylim([20, 40])\n",
    "plt.legend([\"sample\", \"true\", \"approx\"]);"
   ]
  },
  {
   "cell_type": "markdown",
   "metadata": {},
   "source": [
    "<a id=\"example3\"></a>\n",
    "### § Example 3"
   ]
  },
  {
   "cell_type": "markdown",
   "metadata": {},
   "source": [
    "This example repeats [Example 1](#example1) using the function we just wrote."
   ]
  },
  {
   "cell_type": "code",
   "execution_count": 15,
   "metadata": {
    "collapsed": false
   },
   "outputs": [],
   "source": [
    "c0 = [1. / 16, 1. / 8, 1. / 128]\n",
    "u, v = T.vectors(2)\n",
    "L2 = (-c0[0] * (u - c0[1] * v ** 2) ** 2 - c0[2] * (v ** 2 - 2) ** 2)[0]\n",
    "\n",
    "viu = vilaps(L2, [u, v], [1, 1], hp=None, y=None)"
   ]
  },
  {
   "cell_type": "code",
   "execution_count": 16,
   "metadata": {
    "collapsed": false
   },
   "outputs": [
    {
     "name": "stdout",
     "output_type": "stream",
     "text": [
      "[ 0.99625185] [ 1.63277395]\n"
     ]
    },
    {
     "data": {
      "image/png": "[encoded data removed]",
      "text/plain": [
       "<matplotlib.figure.Figure at 0x7fd0d741ea20>"
      ]
     },
     "metadata": {},
     "output_type": "display_data"
    }
   ],
   "source": [
    "plt.figure()\n",
    "u0 = [1.]\n",
    "v0 = [1.]\n",
    "tol = 0.0001\n",
    "\n",
    "for step in range(256):\n",
    "    gnu, gnv, lmu, lmv, Cu, Cv, FE = viu(u0, v0)\n",
    "    tu, tv = gnu, gnv\n",
    "    u0 += tu\n",
    "    v0 += tv\n",
    "    plt.subplot(211)\n",
    "    plt.plot(u0, v0, 'bo', alpha=.5)\n",
    "    plt.subplot(212)\n",
    "    plt.plot(step, FE, 'r+')\n",
    "    display.display(plt.gcf())\n",
    "    display.clear_output(wait=True)\n",
    "    if np.all(np.square([tu, tv]) < tol): break\n",
    "print(u0, v0)"
   ]
  },
  {
   "cell_type": "markdown",
   "metadata": {},
   "source": [
    "<a id=\"appendix1\"></a>\n",
    "### A.1 Multivariate normal distribution"
   ]
  },
  {
   "cell_type": "markdown",
   "metadata": {},
   "source": [
    "Say $\\pmb x \\sim N(\\pmb\\mu, \\pmb\\Lambda^{-1})$\n",
    "\n",
    "Then,\n",
    "\n",
    "$\n",
    "\\ln p(\\pmb x) = -\\frac D 2\\ln 2\\pi - \\frac 1 2 \\ln|\\pmb\\Lambda^{-1}| - \\frac 1 2 (\\pmb x-\\pmb\\mu)^T\\pmb\\Lambda(\\pmb x-\\pmb\\mu)\n",
    "$"
   ]
  },
  {
   "cell_type": "markdown",
   "metadata": {},
   "source": [
    "$\n",
    "H(\\pmb x) = \\langle -\\ln \\pmb x\\rangle = \\frac D 2\\ln 2\\pi e + \\frac 1 2 \\ln |\\pmb\\Lambda^{-1}|\n",
    "$"
   ]
  },
  {
   "cell_type": "markdown",
   "metadata": {},
   "source": [
    "$\n",
    "D = \\dim(\\pmb x)\n",
    "$"
   ]
  },
  {
   "cell_type": "markdown",
   "metadata": {},
   "source": [
    "<a id=\"appendix3\"></a>\n",
    "### A.2 Linearisation"
   ]
  },
  {
   "cell_type": "markdown",
   "metadata": {
    "collapsed": true
   },
   "source": [
    "The following derives a local linearisation of a dynamical system, proposed by Ozaki (1992).\n",
    "\n",
    "\n",
    "Suppose we have a stochastic dynamical system with a continuous time Gaussian white noize $n(t)$.\n",
    "\n",
    "$$\n",
    "\\begin{equation}\n",
    "\\dot{y}(t) = f(y(t))) + n(t) \\tag{1}\n",
    "\\end{equation}\n",
    "$$\n",
    " \n",
    "At first, we approximate the equation by a Gaussian process,\n",
    "\n",
    "$$\n",
    "\\begin{equation}\n",
    "\\dot{y}(t) = K_ty(t) + n(t) \\tag{2}\n",
    "\\end{equation}\n",
    "$$\n",
    "\n",
    "with some appropriate $K_t$ on a small interval $[t, t+\\Delta t)$.\n",
    "\n",
    "From the assumption that the Jacobian of the linear part of $(2)$ over each interval $[t, t+\\Delta t)$ is given by the Jacobian $J_t = \\frac{\\partial f(y)}{\\partial y}$ at $y = y_t$ of the original dynamical system, we have the following equation by using  chain rule,\n",
    "\n",
    "$$\n",
    "\\begin{eqnarray*}\n",
    "\\ddot{y}(s) &=& \\frac{d\\dot{y}(s)}{ds} \\\\\n",
    "&=& \\frac{\\partial f(y)}{\\partial y}\\frac{\\partial y}{\\partial s} \\\\ \n",
    "&=& J_t\\dot{y}(s) \\tag{3}\n",
    "\\end{eqnarray*}\n",
    "$$\n",
    "\n",
    "for $t \\leq s \\leq t + \\Delta t$.\n",
    "\n",
    "By integrating (3) on $[t, t + \\tau)(0 \\leq \\tau < \\Delta t)$ we have\n",
    "\n",
    "$$\n",
    "\\begin{eqnarray*}\n",
    "\\dot{y}(t + \\tau) &=& \\exp(J_t\\tau)\\dot{y}(t) \\\\\n",
    "&=& \\exp(J_t\\tau)f(y(t)) \\tag{4}\n",
    "\\end{eqnarray*}\n",
    "$$\n",
    "\n",
    "Integrating the equation $(4)$ again with respect to $\\tau$  on $[0, \\Delta t)$  utilizing the method of integration by parts,\n",
    "finally, we get the following equation which gives the value of $y(t+\\Delta t)$ as a function of $y(t)$.\n",
    "\n",
    "$$\n",
    "\\begin{equation}\n",
    "y(t + \\Delta t) = y(t) + J_t^{-1}\\{\\exp(J_t\\Delta t) - 1\\}f(y(t))\\tag{5}\n",
    "\\end{equation}\n",
    "$$\n",
    "\n",
    "* Ozaki T (1992) \"A bridge between nonlinear time series models and nonlinear stochastic dynamical systems: a local linearization approach\", Statistics Sinica 2, 1, 113-135."
   ]
  }
 ],
 "metadata": {
  "kernelspec": {
   "display_name": "Python 3",
   "language": "python",
   "name": "python3"
  },
  "language_info": {
   "codemirror_mode": {
    "name": "ipython",
    "version": 3
   },
   "file_extension": ".py",
   "mimetype": "text/x-python",
   "name": "python",
   "nbconvert_exporter": "python",
   "pygments_lexer": "ipython3",
   "version": "3.4.3"
  }
 },
 "nbformat": 4,
 "nbformat_minor": 0
}
