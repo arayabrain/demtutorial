{
 "cells": [
  {
   "cell_type": "markdown",
   "metadata": {},
   "source": [
    "## $\\S$ Local Linearization\n",
    "\n",
    "Suppose we have a stochastic dynamical system with a continuous time Gaussian white noize $n(t)$.\n",
    "\n",
    "$$\n",
    "\\begin{equation}\n",
    "\\dot{y}(t) = f(y(t))) + n(t) \\tag{1}\n",
    "\\end{equation}\n",
    "$$\n",
    " \n",
    "At first, we approximate the equation by a Gaussian process,\n",
    "\n",
    "$$\n",
    "\\begin{equation}\n",
    "\\dot{y}(t) = K_ty(t) + n(t) \\tag{2}\n",
    "\\end{equation}\n",
    "$$\n",
    "\n",
    "with some appropriate $K_t$ on a small interval $[t, t+\\Delta t)$.\n",
    "\n",
    "From the assumption that the Jacobian of the linear part of $(2)$ over each interval $[t, t+\\Delta t)$ is given by the Jacobian $J_t = \\frac{\\partial f(y)}{\\partial y}$ at $y = y_t$ of the original dynamical system, we have the following equation by using the chain rule,\n",
    "\n",
    "$$\n",
    "\\begin{eqnarray*}\n",
    "\\ddot{y}(s) &=& \\frac{d\\dot{y}(s)}{ds} \\\\\n",
    "&=& \\frac{\\partial f(y)}{\\partial y}\\frac{\\partial y}{\\partial s} \\\\ \n",
    "&=& J_t\\dot{y}(s) \\tag{3}\n",
    "\\end{eqnarray*}\n",
    "$$\n",
    "\n",
    "for $t \\leq s \\leq t + \\Delta t$.\n",
    "\n",
    "By integrating (3) on $[t, t + \\tau)(0 \\leq \\tau < \\Delta t)$ we have\n",
    "\n",
    "$$\n",
    "\\begin{eqnarray*}\n",
    "\\dot{y}(t + \\tau) &=& \\exp(J_t\\tau)\\dot{y}(t) \\\\\n",
    "&=& \\exp(J_t\\tau)f(y(t)) \\tag{4}\n",
    "\\end{eqnarray*}\n",
    "$$\n",
    "\n",
    "Integrating the equation $(4)$ again with respect to $\\tau$  on $[0, \\Delta t)$  utilizing the method of integration by parts,\n",
    "finally, we get the following equation which gives the value of $y(t+\\Delta t)$ as a function of $y(t)$.\n",
    "\n",
    "$$\n",
    "\\begin{equation}\n",
    "y(t + \\Delta t) = y(t) + J_t^{-1}\\{\\exp(J_t\\Delta t) - 1\\}f(y(t))\\tag{5}\n",
    "\\end{equation}\n",
    "$$\n",
    "\n",
    "### 【Refference】\n",
    "From the paper : Ozaki T (1992) \"A bridge between nonlinear time series models and nonlinear stochastic dynamical systems: a local linearization approach\", Statistics Sinica 2, 1, 113-135.  http://ntimsac.com/ozaki/public_html/publications/paper/1992_Ozaki_sta_sin.pdf"
   ]
  },
  {
   "cell_type": "code",
   "execution_count": null,
   "metadata": {
    "collapsed": true
   },
   "outputs": [],
   "source": []
  }
 ],
 "metadata": {
  "kernelspec": {
   "display_name": "Python 2",
   "language": "python",
   "name": "python2"
  },
  "language_info": {
   "codemirror_mode": {
    "name": "ipython",
    "version": 2
   },
   "file_extension": ".py",
   "mimetype": "text/x-python",
   "name": "python",
   "nbconvert_exporter": "python",
   "pygments_lexer": "ipython2",
   "version": "2.7.10"
  }
 },
 "nbformat": 4,
 "nbformat_minor": 0
}
